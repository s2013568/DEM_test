{
 "cells": [
  {
   "cell_type": "code",
   "execution_count": 1,
   "metadata": {},
   "outputs": [],
   "source": [
    "from environment import Environment\n",
    "from agent import Agent\n",
    "from main import GCFModel\n",
    "import measurement\n",
    "import numpy as np"
   ]
  },
  {
   "cell_type": "code",
   "execution_count": null,
   "metadata": {},
   "outputs": [],
   "source": [
    "# Function to calculate flow rate\n",
    "def calculate_flow_rate(step_of_passing):\n",
    "    return (60 - 1) / step_of_passing\n",
    "\n",
    "# Define range for bottleneck_height    \n",
    "bottleneck_heights = [2.0]\n",
    "\n",
    "# Initialize lists to store results\n",
    "flow_rates = []\n",
    "\n",
    "# Run simulation for each bottleneck height\n",
    "for bottleneck_height in bottleneck_heights:\n",
    "    # Define environment\n",
    "    env = Environment(width=30, height=4, bottleneck_width=2.8, bottleneck_height=bottleneck_height, location=(10, 0), periodic=False)\n",
    "    \n",
    "    # Initialize agents with 5 agents starting extremely close to each other\n",
    "    agents = []\n",
    "    num_agents = 2  # Set number of agents to 5\n",
    "\n",
    "    # Define a starting position close to each other\n",
    "    start_x = 5.0  # Arbitrary central starting point near the middle of the box\n",
    "    start_y = 2.0\n",
    "    agent_spacing = 1.0  # Very small spacing between agents\n",
    "\n",
    "    # Place 5 agents close together\n",
    "    # for i in range(num_agents):\n",
    "    #     # Adjust x positions slightly for proximity\n",
    "    #     x_pos = start_x + agent_spacing * i\n",
    "    #     y_pos = start_y\n",
    "\n",
    "        # agents.append(agent)\n",
    "    agents = [Agent(position=[0.5, 19], velocity=[0.0, 0.0], a_min=0.18, b_min=0.2, tau=0.53, f=1.25, desired_walking_speed=1.34, test=False)\n",
    "              \n",
    "    ]\n",
    "    # Initialize GCF model\n",
    "    gcf_model = GCFModel(environment=env, agents=agents, time_constant=0.5, eta=0.2)\n",
    "    \n",
    "    # Optionally, animate the system\n",
    "    gcf_model.animate(steps=300, dt=0.01, interval=50, output_filename=\"crowd_simulation_close_agents.gif\", show_forces=True)\n",
    "    \n",
    "    # Run the simulation\n",
    "    # gcf_model.run_simulation(steps=10000, dt=0.01, log_interval=10, verbose=False)\n",
    "\n",
    "    # Calculate flow rate and record it\n",
    "    # step_of_passing = gcf_model.recorded_step_of_passing[0]\n",
    "    # flow_rate = calculate_flow_rate(step_of_passing)\n",
    "    # flow_rates.append(flow_rate)\n"
   ]
  }
 ],
 "metadata": {
  "kernelspec": {
   "display_name": "Python 3",
   "language": "python",
   "name": "python3"
  },
  "language_info": {
   "codemirror_mode": {
    "name": "ipython",
    "version": 3
   },
   "file_extension": ".py",
   "mimetype": "text/x-python",
   "name": "python",
   "nbconvert_exporter": "python",
   "pygments_lexer": "ipython3",
   "version": "3.8.10"
  }
 },
 "nbformat": 4,
 "nbformat_minor": 2
}
