{
 "cells": [
  {
   "cell_type": "code",
   "execution_count": 1,
   "metadata": {},
   "outputs": [],
   "source": [
    "from environment import Environment\n",
    "from agent import Agent\n",
    "from main import GCFModel"
   ]
  },
  {
   "cell_type": "code",
   "execution_count": 3,
   "metadata": {},
   "outputs": [
    {
     "name": "stderr",
     "output_type": "stream",
     "text": [
      "\\\\csce.datastore.ed.ac.uk\\csce\\eng\\users\\s2013568\\Win7\\Desktop\\DEM\\DEM_test\\Ageng_based_simulation\\Force_based_model\\main.py:61: UserWarning: Setting the 'color' property will override the edgecolor or facecolor properties.\n",
      "  agent_circles = [patches.Ellipse(agent.position, 2*agent.a, 2*agent.b,angle=misc.calculate_angle(agent.velocity), color='b', fill=False, edgecolor='b') for agent in self.agents]\n",
      "\\\\csce.datastore.ed.ac.uk\\csce\\eng\\users\\s2013568\\Win7\\Desktop\\DEM\\DEM_test\\Ageng_based_simulation\\Force_based_model\\main.py:91: UserWarning: Setting the 'color' property will override the edgecolor or facecolor properties.\n",
      "  new_agent_circles = [patches.Ellipse(agent.position, 2*agent.a, 2*agent.b, angle=misc.calculate_angle(agent.velocity), color='b', fill=False, edgecolor='b') for agent in self.agents]\n"
     ]
    },
    {
     "data": {
      "image/png": "[encoded data removed]",
      "text/plain": [
       "<Figure size 640x480 with 1 Axes>"
      ]
     },
     "metadata": {},
     "output_type": "display_data"
    }
   ],
   "source": [
    "env = Environment(width=20, height=10, bottleneck_width=2, bottleneck_height=2)\n",
    "agents = [\n",
    "    Agent(position=[0.5, 1.0], velocity=[0.0, 0.0],a_min = 0.3, b_min = 0.1, tau = 0.5, f = 2),\n",
    "    Agent(position=[0.5, 8.0], velocity=[0.0, 0.0], a_min = 0.3, b_min = 0.1, tau = 0.5, f = 2),\n",
    "    Agent(position=[0.5, 2.0], velocity=[0.0, 0.0], a_min = 0.3, b_min = 0.1, tau = 0.5, f = 2)\n",
    "]\n",
    "\n",
    "\n",
    "gcf_model = GCFModel(environment=env, agents=agents, time_constant = 0.2)\n",
    "gcf_model.animate(steps=100, dt=0.1, interval=100, output_filename=\"crowd_simulation_social_force_ellipse.gif\", show_forces = True)"
   ]
  },
  {
   "cell_type": "code",
   "execution_count": 6,
   "metadata": {},
   "outputs": [
    {
     "name": "stderr",
     "output_type": "stream",
     "text": [
      "\\\\csce.datastore.ed.ac.uk\\csce\\eng\\users\\s2013568\\Win7\\Desktop\\DEM\\DEM_test\\Ageng_based_simulation\\Force_based_model\\main.py:61: UserWarning: Setting the 'color' property will override the edgecolor or facecolor properties.\n",
      "  agent_circles = [patches.Ellipse(agent.position, 2*agent.a, 2*agent.b,angle=misc.calculate_angle(agent.velocity), color='b', fill=False, edgecolor='b') for agent in self.agents]\n"
     ]
    },
    {
     "ename": "IndexError",
     "evalue": "list index out of range",
     "output_type": "error",
     "traceback": [
      "\u001b[1;31m---------------------------------------------------------------------------\u001b[0m",
      "\u001b[1;31mUFuncTypeError\u001b[0m                            Traceback (most recent call last)",
      "File \u001b[1;32m~\\AppData\\Local\\Packages\\PythonSoftwareFoundation.Python.3.8_qbz5n2kfra8p0\\LocalCache\\local-packages\\Python38\\site-packages\\matplotlib\\animation.py:233\u001b[0m, in \u001b[0;36mAbstractMovieWriter.saving\u001b[1;34m(self, fig, outfile, dpi, *args, **kwargs)\u001b[0m\n\u001b[0;32m    232\u001b[0m \u001b[38;5;28;01mtry\u001b[39;00m:\n\u001b[1;32m--> 233\u001b[0m     \u001b[38;5;28;01myield\u001b[39;00m \u001b[38;5;28mself\u001b[39m\n\u001b[0;32m    234\u001b[0m \u001b[38;5;28;01mfinally\u001b[39;00m:\n",
      "File \u001b[1;32m~\\AppData\\Local\\Packages\\PythonSoftwareFoundation.Python.3.8_qbz5n2kfra8p0\\LocalCache\\local-packages\\Python38\\site-packages\\matplotlib\\animation.py:1103\u001b[0m, in \u001b[0;36mAnimation.save\u001b[1;34m(self, filename, writer, fps, dpi, codec, bitrate, extra_args, metadata, extra_anim, savefig_kwargs, progress_callback)\u001b[0m\n\u001b[0;32m   1101\u001b[0m \u001b[38;5;28;01mfor\u001b[39;00m anim, d \u001b[38;5;129;01min\u001b[39;00m \u001b[38;5;28mzip\u001b[39m(all_anim, data):\n\u001b[0;32m   1102\u001b[0m     \u001b[38;5;66;03m# TODO: See if turning off blit is really necessary\u001b[39;00m\n\u001b[1;32m-> 1103\u001b[0m     \u001b[43manim\u001b[49m\u001b[38;5;241;43m.\u001b[39;49m\u001b[43m_draw_next_frame\u001b[49m\u001b[43m(\u001b[49m\u001b[43md\u001b[49m\u001b[43m,\u001b[49m\u001b[43m \u001b[49m\u001b[43mblit\u001b[49m\u001b[38;5;241;43m=\u001b[39;49m\u001b[38;5;28;43;01mFalse\u001b[39;49;00m\u001b[43m)\u001b[49m\n\u001b[0;32m   1104\u001b[0m     \u001b[38;5;28;01mif\u001b[39;00m progress_callback \u001b[38;5;129;01mis\u001b[39;00m \u001b[38;5;129;01mnot\u001b[39;00m \u001b[38;5;28;01mNone\u001b[39;00m:\n",
      "File \u001b[1;32m~\\AppData\\Local\\Packages\\PythonSoftwareFoundation.Python.3.8_qbz5n2kfra8p0\\LocalCache\\local-packages\\Python38\\site-packages\\matplotlib\\animation.py:1138\u001b[0m, in \u001b[0;36mAnimation._draw_next_frame\u001b[1;34m(self, framedata, blit)\u001b[0m\n\u001b[0;32m   1137\u001b[0m \u001b[38;5;28mself\u001b[39m\u001b[38;5;241m.\u001b[39m_pre_draw(framedata, blit)\n\u001b[1;32m-> 1138\u001b[0m \u001b[38;5;28;43mself\u001b[39;49m\u001b[38;5;241;43m.\u001b[39;49m\u001b[43m_draw_frame\u001b[49m\u001b[43m(\u001b[49m\u001b[43mframedata\u001b[49m\u001b[43m)\u001b[49m\n\u001b[0;32m   1139\u001b[0m \u001b[38;5;28mself\u001b[39m\u001b[38;5;241m.\u001b[39m_post_draw(framedata, blit)\n",
      "File \u001b[1;32m~\\AppData\\Local\\Packages\\PythonSoftwareFoundation.Python.3.8_qbz5n2kfra8p0\\LocalCache\\local-packages\\Python38\\site-packages\\matplotlib\\animation.py:1767\u001b[0m, in \u001b[0;36mFuncAnimation._draw_frame\u001b[1;34m(self, framedata)\u001b[0m\n\u001b[0;32m   1765\u001b[0m \u001b[38;5;66;03m# Call the func with framedata and args. If blitting is desired,\u001b[39;00m\n\u001b[0;32m   1766\u001b[0m \u001b[38;5;66;03m# func needs to return a sequence of any artists that were modified.\u001b[39;00m\n\u001b[1;32m-> 1767\u001b[0m \u001b[38;5;28mself\u001b[39m\u001b[38;5;241m.\u001b[39m_drawn_artists \u001b[38;5;241m=\u001b[39m \u001b[38;5;28;43mself\u001b[39;49m\u001b[38;5;241;43m.\u001b[39;49m\u001b[43m_func\u001b[49m\u001b[43m(\u001b[49m\u001b[43mframedata\u001b[49m\u001b[43m,\u001b[49m\u001b[43m \u001b[49m\u001b[38;5;241;43m*\u001b[39;49m\u001b[38;5;28;43mself\u001b[39;49m\u001b[38;5;241;43m.\u001b[39;49m\u001b[43m_args\u001b[49m\u001b[43m)\u001b[49m\n\u001b[0;32m   1769\u001b[0m \u001b[38;5;28;01mif\u001b[39;00m \u001b[38;5;28mself\u001b[39m\u001b[38;5;241m.\u001b[39m_blit:\n",
      "File \u001b[1;32m\\\\csce.datastore.ed.ac.uk\\csce\\eng\\users\\s2013568\\Win7\\Desktop\\DEM\\DEM_test\\Ageng_based_simulation\\Force_based_model\\main.py:87\u001b[0m, in \u001b[0;36mGCFModel.animate.<locals>.update_animation\u001b[1;34m(frame)\u001b[0m\n\u001b[0;32m     86\u001b[0m \u001b[38;5;28;01mnonlocal\u001b[39;00m forces\n\u001b[1;32m---> 87\u001b[0m \u001b[38;5;28;43mself\u001b[39;49m\u001b[38;5;241;43m.\u001b[39;49m\u001b[43mupdate\u001b[49m\u001b[43m(\u001b[49m\u001b[43mdt\u001b[49m\u001b[43m)\u001b[49m\n\u001b[0;32m     89\u001b[0m \u001b[38;5;66;03m# Remove agent circles if agents were removed and rebuild list\u001b[39;00m\n\u001b[0;32m     90\u001b[0m \u001b[38;5;66;03m# new_agent_circles = [plt.Circle(agent.position, agent.radius, color='b', fill=False, edgecolor='b') for agent in self.agents]\u001b[39;00m\n",
      "File \u001b[1;32m\\\\csce.datastore.ed.ac.uk\\csce\\eng\\users\\s2013568\\Win7\\Desktop\\DEM\\DEM_test\\Ageng_based_simulation\\Force_based_model\\main.py:25\u001b[0m, in \u001b[0;36mGCFModel.update\u001b[1;34m(self, dt)\u001b[0m\n\u001b[0;32m     24\u001b[0m \u001b[38;5;28;01mfor\u001b[39;00m agent \u001b[38;5;129;01min\u001b[39;00m \u001b[38;5;28mself\u001b[39m\u001b[38;5;241m.\u001b[39magents:\n\u001b[1;32m---> 25\u001b[0m     \u001b[43magent\u001b[49m\u001b[38;5;241;43m.\u001b[39;49m\u001b[43mmove\u001b[49m\u001b[43m(\u001b[49m\u001b[43mdt\u001b[49m\u001b[43m)\u001b[49m  \u001b[38;5;66;03m# Move the agent based on the updated velocity\u001b[39;00m\n\u001b[0;32m     27\u001b[0m     \u001b[38;5;66;03m# Check if the agent hits a wall, and reverse velocity if needed\u001b[39;00m\n",
      "File \u001b[1;32m\\\\csce.datastore.ed.ac.uk\\csce\\eng\\users\\s2013568\\Win7\\Desktop\\DEM\\DEM_test\\Ageng_based_simulation\\Force_based_model\\agent.py:37\u001b[0m, in \u001b[0;36mAgent.move\u001b[1;34m(self, dt)\u001b[0m\n\u001b[0;32m     36\u001b[0m \u001b[38;5;66;03m# Update the agent's position based on its velocity\u001b[39;00m\n\u001b[1;32m---> 37\u001b[0m \u001b[38;5;28mself\u001b[39m\u001b[38;5;241m.\u001b[39mposition \u001b[38;5;241m+\u001b[39m\u001b[38;5;241m=\u001b[39m \u001b[38;5;28mself\u001b[39m\u001b[38;5;241m.\u001b[39mvelocity \u001b[38;5;241m*\u001b[39m dt\n\u001b[0;32m     39\u001b[0m \u001b[38;5;28mself\u001b[39m\u001b[38;5;241m.\u001b[39ma \u001b[38;5;241m=\u001b[39m \u001b[38;5;28mself\u001b[39m\u001b[38;5;241m.\u001b[39ma_min \u001b[38;5;241m+\u001b[39m \u001b[38;5;28mself\u001b[39m\u001b[38;5;241m.\u001b[39mtau \u001b[38;5;241m*\u001b[39m np\u001b[38;5;241m.\u001b[39mlinalg\u001b[38;5;241m.\u001b[39mnorm(\u001b[38;5;28mself\u001b[39m\u001b[38;5;241m.\u001b[39mvelocity)\n",
      "\u001b[1;31mUFuncTypeError\u001b[0m: Cannot cast ufunc 'add' output from dtype('float64') to dtype('int32') with casting rule 'same_kind'",
      "\nDuring handling of the above exception, another exception occurred:\n",
      "\u001b[1;31mIndexError\u001b[0m                                Traceback (most recent call last)",
      "Cell \u001b[1;32mIn[6], line 21\u001b[0m\n\u001b[0;32m     13\u001b[0m agents \u001b[38;5;241m=\u001b[39m [\n\u001b[0;32m     14\u001b[0m     Agent(position\u001b[38;5;241m=\u001b[39m[x, y], velocity\u001b[38;5;241m=\u001b[39m[\u001b[38;5;241m0.0\u001b[39m, \u001b[38;5;241m0.0\u001b[39m], a_min\u001b[38;5;241m=\u001b[39ma_min, b_min\u001b[38;5;241m=\u001b[39mb_min, tau\u001b[38;5;241m=\u001b[39mtau, f\u001b[38;5;241m=\u001b[39mf)\n\u001b[0;32m     15\u001b[0m     \u001b[38;5;28;01mfor\u001b[39;00m x \u001b[38;5;129;01min\u001b[39;00m \u001b[38;5;28mrange\u001b[39m(\u001b[38;5;241m1\u001b[39m, \u001b[38;5;241m5\u001b[39m \u001b[38;5;241m+\u001b[39m \u001b[38;5;241m1\u001b[39m)\n\u001b[0;32m     16\u001b[0m     \u001b[38;5;28;01mfor\u001b[39;00m y \u001b[38;5;129;01min\u001b[39;00m \u001b[38;5;28mrange\u001b[39m(\u001b[38;5;241m1\u001b[39m, \u001b[38;5;241m9\u001b[39m \u001b[38;5;241m+\u001b[39m \u001b[38;5;241m1\u001b[39m)\n\u001b[0;32m     17\u001b[0m ]\n\u001b[0;32m     20\u001b[0m gcf_model \u001b[38;5;241m=\u001b[39m GCFModel(environment\u001b[38;5;241m=\u001b[39menv, agents\u001b[38;5;241m=\u001b[39magents, time_constant\u001b[38;5;241m=\u001b[39m\u001b[38;5;241m0.2\u001b[39m)\n\u001b[1;32m---> 21\u001b[0m \u001b[43mgcf_model\u001b[49m\u001b[38;5;241;43m.\u001b[39;49m\u001b[43manimate\u001b[49m\u001b[43m(\u001b[49m\u001b[43msteps\u001b[49m\u001b[38;5;241;43m=\u001b[39;49m\u001b[38;5;241;43m100\u001b[39;49m\u001b[43m,\u001b[49m\u001b[43m \u001b[49m\u001b[43mdt\u001b[49m\u001b[38;5;241;43m=\u001b[39;49m\u001b[38;5;241;43m0.1\u001b[39;49m\u001b[43m,\u001b[49m\u001b[43m \u001b[49m\u001b[43minterval\u001b[49m\u001b[38;5;241;43m=\u001b[39;49m\u001b[38;5;241;43m100\u001b[39;49m\u001b[43m,\u001b[49m\u001b[43m \u001b[49m\u001b[43moutput_filename\u001b[49m\u001b[38;5;241;43m=\u001b[39;49m\u001b[38;5;124;43m\"\u001b[39;49m\u001b[38;5;124;43mcrowd_simulation_social_force_ellipse.gif\u001b[39;49m\u001b[38;5;124;43m\"\u001b[39;49m\u001b[43m,\u001b[49m\u001b[43m \u001b[49m\u001b[43mshow_forces\u001b[49m\u001b[38;5;241;43m=\u001b[39;49m\u001b[38;5;28;43;01mTrue\u001b[39;49;00m\u001b[43m)\u001b[49m\n",
      "File \u001b[1;32m\\\\csce.datastore.ed.ac.uk\\csce\\eng\\users\\s2013568\\Win7\\Desktop\\DEM\\DEM_test\\Ageng_based_simulation\\Force_based_model\\main.py:130\u001b[0m, in \u001b[0;36mGCFModel.animate\u001b[1;34m(self, steps, dt, interval, output_filename, show_forces)\u001b[0m\n\u001b[0;32m    126\u001b[0m anim \u001b[38;5;241m=\u001b[39m FuncAnimation(fig, update_animation, frames\u001b[38;5;241m=\u001b[39msteps,\n\u001b[0;32m    127\u001b[0m                     init_func\u001b[38;5;241m=\u001b[39minit, blit\u001b[38;5;241m=\u001b[39m\u001b[38;5;28;01mTrue\u001b[39;00m, interval\u001b[38;5;241m=\u001b[39minterval)\n\u001b[0;32m    129\u001b[0m \u001b[38;5;66;03m# Save the animation as a GIF at 10 frames per second\u001b[39;00m\n\u001b[1;32m--> 130\u001b[0m \u001b[43manim\u001b[49m\u001b[38;5;241;43m.\u001b[39;49m\u001b[43msave\u001b[49m\u001b[43m(\u001b[49m\u001b[43moutput_filename\u001b[49m\u001b[43m,\u001b[49m\u001b[43m \u001b[49m\u001b[43mwriter\u001b[49m\u001b[38;5;241;43m=\u001b[39;49m\u001b[38;5;124;43m'\u001b[39;49m\u001b[38;5;124;43mpillow\u001b[39;49m\u001b[38;5;124;43m'\u001b[39;49m\u001b[43m,\u001b[49m\u001b[43m \u001b[49m\u001b[43mfps\u001b[49m\u001b[38;5;241;43m=\u001b[39;49m\u001b[38;5;241;43m10000\u001b[39;49m\u001b[43m)\u001b[49m\n\u001b[0;32m    133\u001b[0m plt\u001b[38;5;241m.\u001b[39mshow()\n",
      "File \u001b[1;32m~\\AppData\\Local\\Packages\\PythonSoftwareFoundation.Python.3.8_qbz5n2kfra8p0\\LocalCache\\local-packages\\Python38\\site-packages\\matplotlib\\animation.py:1107\u001b[0m, in \u001b[0;36mAnimation.save\u001b[1;34m(self, filename, writer, fps, dpi, codec, bitrate, extra_args, metadata, extra_anim, savefig_kwargs, progress_callback)\u001b[0m\n\u001b[0;32m   1105\u001b[0m         progress_callback(frame_number, total_frames)\n\u001b[0;32m   1106\u001b[0m         frame_number \u001b[38;5;241m+\u001b[39m\u001b[38;5;241m=\u001b[39m \u001b[38;5;241m1\u001b[39m\n\u001b[1;32m-> 1107\u001b[0m writer\u001b[38;5;241m.\u001b[39mgrab_frame(\u001b[38;5;241m*\u001b[39m\u001b[38;5;241m*\u001b[39msavefig_kwargs)\n",
      "File \u001b[1;32mC:\\Program Files\\WindowsApps\\PythonSoftwareFoundation.Python.3.8_3.8.2800.0_x64__qbz5n2kfra8p0\\lib\\contextlib.py:131\u001b[0m, in \u001b[0;36m_GeneratorContextManager.__exit__\u001b[1;34m(self, type, value, traceback)\u001b[0m\n\u001b[0;32m    129\u001b[0m     value \u001b[38;5;241m=\u001b[39m \u001b[38;5;28mtype\u001b[39m()\n\u001b[0;32m    130\u001b[0m \u001b[38;5;28;01mtry\u001b[39;00m:\n\u001b[1;32m--> 131\u001b[0m     \u001b[38;5;28;43mself\u001b[39;49m\u001b[38;5;241;43m.\u001b[39;49m\u001b[43mgen\u001b[49m\u001b[38;5;241;43m.\u001b[39;49m\u001b[43mthrow\u001b[49m\u001b[43m(\u001b[49m\u001b[38;5;28;43mtype\u001b[39;49m\u001b[43m,\u001b[49m\u001b[43m \u001b[49m\u001b[43mvalue\u001b[49m\u001b[43m,\u001b[49m\u001b[43m \u001b[49m\u001b[43mtraceback\u001b[49m\u001b[43m)\u001b[49m\n\u001b[0;32m    132\u001b[0m \u001b[38;5;28;01mexcept\u001b[39;00m \u001b[38;5;167;01mStopIteration\u001b[39;00m \u001b[38;5;28;01mas\u001b[39;00m exc:\n\u001b[0;32m    133\u001b[0m     \u001b[38;5;66;03m# Suppress StopIteration *unless* it's the same exception that\u001b[39;00m\n\u001b[0;32m    134\u001b[0m     \u001b[38;5;66;03m# was passed to throw().  This prevents a StopIteration\u001b[39;00m\n\u001b[0;32m    135\u001b[0m     \u001b[38;5;66;03m# raised inside the \"with\" statement from being suppressed.\u001b[39;00m\n\u001b[0;32m    136\u001b[0m     \u001b[38;5;28;01mreturn\u001b[39;00m exc \u001b[38;5;129;01mis\u001b[39;00m \u001b[38;5;129;01mnot\u001b[39;00m value\n",
      "File \u001b[1;32m~\\AppData\\Local\\Packages\\PythonSoftwareFoundation.Python.3.8_qbz5n2kfra8p0\\LocalCache\\local-packages\\Python38\\site-packages\\matplotlib\\animation.py:235\u001b[0m, in \u001b[0;36mAbstractMovieWriter.saving\u001b[1;34m(self, fig, outfile, dpi, *args, **kwargs)\u001b[0m\n\u001b[0;32m    233\u001b[0m     \u001b[38;5;28;01myield\u001b[39;00m \u001b[38;5;28mself\u001b[39m\n\u001b[0;32m    234\u001b[0m \u001b[38;5;28;01mfinally\u001b[39;00m:\n\u001b[1;32m--> 235\u001b[0m     \u001b[38;5;28;43mself\u001b[39;49m\u001b[38;5;241;43m.\u001b[39;49m\u001b[43mfinish\u001b[49m\u001b[43m(\u001b[49m\u001b[43m)\u001b[49m\n",
      "File \u001b[1;32m~\\AppData\\Local\\Packages\\PythonSoftwareFoundation.Python.3.8_qbz5n2kfra8p0\\LocalCache\\local-packages\\Python38\\site-packages\\matplotlib\\animation.py:501\u001b[0m, in \u001b[0;36mPillowWriter.finish\u001b[1;34m(self)\u001b[0m\n\u001b[0;32m    500\u001b[0m \u001b[38;5;28;01mdef\u001b[39;00m \u001b[38;5;21mfinish\u001b[39m(\u001b[38;5;28mself\u001b[39m):\n\u001b[1;32m--> 501\u001b[0m     \u001b[38;5;28;43mself\u001b[39;49m\u001b[38;5;241;43m.\u001b[39;49m\u001b[43m_frames\u001b[49m\u001b[43m[\u001b[49m\u001b[38;5;241;43m0\u001b[39;49m\u001b[43m]\u001b[49m\u001b[38;5;241m.\u001b[39msave(\n\u001b[0;32m    502\u001b[0m         \u001b[38;5;28mself\u001b[39m\u001b[38;5;241m.\u001b[39moutfile, save_all\u001b[38;5;241m=\u001b[39m\u001b[38;5;28;01mTrue\u001b[39;00m, append_images\u001b[38;5;241m=\u001b[39m\u001b[38;5;28mself\u001b[39m\u001b[38;5;241m.\u001b[39m_frames[\u001b[38;5;241m1\u001b[39m:],\n\u001b[0;32m    503\u001b[0m         duration\u001b[38;5;241m=\u001b[39m\u001b[38;5;28mint\u001b[39m(\u001b[38;5;241m1000\u001b[39m \u001b[38;5;241m/\u001b[39m \u001b[38;5;28mself\u001b[39m\u001b[38;5;241m.\u001b[39mfps), loop\u001b[38;5;241m=\u001b[39m\u001b[38;5;241m0\u001b[39m)\n",
      "\u001b[1;31mIndexError\u001b[0m: list index out of range"
     ]
    },
    {
     "data": {
      "image/png": "[encoded data removed]",
      "text/plain": [
       "<Figure size 640x480 with 1 Axes>"
      ]
     },
     "metadata": {},
     "output_type": "display_data"
    }
   ],
   "source": [
    "env = Environment(width=20, height=10, bottleneck_width=2, bottleneck_height=2)\n",
    "\n",
    "# Parameters for agents\n",
    "a_min = 0.3  # minimum radius of the agent (safe distance)\n",
    "b_min = 0.1\n",
    "tau = 0.5\n",
    "f = 2\n",
    "start_pos = 1.0  # Starting position for both x and y\n",
    "end_pos = 5.0    # Ending position for both x and y\n",
    "spacing = 2 * a_min  # To prevent agents from touching, ensure spacing is at least 2 * a_min\n",
    "\n",
    "# Create agents positioned in a grid between x = 1 to 5 and y = 1 to 5\n",
    "agents = [\n",
    "    Agent(position=[x, y], velocity=[0.0, 0.0], a_min=a_min, b_min=b_min, tau=tau, f=f)\n",
    "    for x in range(1, 5 + 1)\n",
    "    for y in range(1, 9 + 1)\n",
    "]\n",
    "\n",
    "\n",
    "gcf_model = GCFModel(environment=env, agents=agents, time_constant=0.2)\n",
    "gcf_model.animate(steps=100, dt=0.1, interval=100, output_filename=\"crowd_simulation_social_force_ellipse.gif\", show_forces=True)\n"
   ]
  },
  {
   "cell_type": "code",
   "execution_count": 2,
   "metadata": {},
   "outputs": [
    {
     "name": "stderr",
     "output_type": "stream",
     "text": [
      "c:\\Users\\Peter\\OneDrive - University of Edinburgh\\Desktop\\PHD\\github\\DEM_test\\Ageng_based_simulation\\Force_based_model\\main.py:57: UserWarning: Setting the 'color' property will override the edgecolor or facecolor properties.\n",
      "  agent_circles = [plt.Circle(agent.position, agent.radius, color='b', fill=False, edgecolor='b') for agent in self.agents]\n",
      "c:\\Users\\Peter\\OneDrive - University of Edinburgh\\Desktop\\PHD\\github\\DEM_test\\Ageng_based_simulation\\Force_based_model\\main.py:86: UserWarning: Setting the 'color' property will override the edgecolor or facecolor properties.\n",
      "  new_agent_circles = [plt.Circle(agent.position, agent.radius, color='b', fill=False, edgecolor='b') for agent in self.agents]\n"
     ]
    },
    {
     "name": "stdout",
     "output_type": "stream",
     "text": [
      "repulsion force:[0. 0.]\n",
      "repulsion force:[0. 0.]\n",
      "repulsion force:[0. 0.]\n",
      "repulsion force:[-2.97796934e-05 -6.22720709e-02]\n",
      "repulsion force:[1.29578654e-05 8.21100016e-02]\n",
      "repulsion force:[ 0.         -0.03870939]\n",
      "repulsion force:[-0.00016057 -0.13354454]\n",
      "repulsion force:[6.92117918e-05 1.74048944e-01]\n",
      "repulsion force:[-1.82953044e-09 -8.33496933e-02]\n",
      "repulsion force:[-0.00035089 -0.17065979]\n",
      "repulsion force:[1.49479041e-04 2.19159859e-01]\n",
      "repulsion force:[-1.09499026e-09 -1.07090397e-01]\n",
      "repulsion force:[-0.00055914 -0.18721945]\n",
      "repulsion force:[2.35781238e-04 2.37566579e-01]\n",
      "repulsion force:[ 3.02365528e-08 -1.17925593e-01]\n",
      "repulsion force:[-0.00077469 -0.19514535]\n",
      "repulsion force:[0.00032406 0.2455466 ]\n",
      "repulsion force:[ 1.33871536e-07 -1.23147695e-01]\n",
      "repulsion force:[-0.00099805 -0.19983151]\n",
      "repulsion force:[0.00041479 0.2499787 ]\n",
      "repulsion force:[ 3.51743015e-07 -1.26169752e-01]\n",
      "repulsion force:[-0.00123129 -0.2033708 ]\n",
      "repulsion force:[0.00050887 0.25331782]\n",
      "repulsion force:[ 7.21454490e-07 -1.28367833e-01]\n",
      "repulsion force:[-0.00147607 -0.20654011]\n",
      "repulsion force:[0.00060691 0.25638062]\n",
      "repulsion force:[ 1.27626100e-06 -1.30275536e-01]\n",
      "repulsion force:[-0.00173356 -0.20962513]\n",
      "repulsion force:[0.0007093  0.25942488]\n",
      "repulsion force:[ 2.04640999e-06 -1.32099042e-01]\n",
      "repulsion force:[-0.00200466 -0.21273188]\n",
      "repulsion force:[0.00081628 0.26252702]\n",
      "repulsion force:[ 3.06068107e-06 -1.33919079e-01]\n",
      "repulsion force:[-0.00229017 -0.21590099]\n",
      "repulsion force:[0.00092811 0.26570792]\n",
      "repulsion force:[ 4.34774078e-06 -1.35768279e-01]\n",
      "repulsion force:[-0.00259091 -0.21914943]\n",
      "repulsion force:[0.001045   0.26897309]\n",
      "repulsion force:[ 5.93722089e-06 -1.37660736e-01]\n",
      "repulsion force:[-0.00290769 -0.22248563]\n",
      "repulsion force:[0.00116721 0.27232474]\n",
      "repulsion force:[ 7.86054933e-06 -1.39603389e-01]\n",
      "repulsion force:[-0.00324138 -0.22591503]\n",
      "repulsion force:[0.00129502 0.27576497]\n",
      "repulsion force:[ 1.01516028e-05 -1.41600433e-01]\n",
      "repulsion force:[-0.00359293 -0.22944212]\n",
      "repulsion force:[0.00142871 0.2792964 ]\n",
      "repulsion force:[ 1.28472508e-05 -1.43655060e-01]\n",
      "repulsion force:[-0.00396328 -0.23307115]\n",
      "repulsion force:[0.00156861 0.28292222]\n",
      "repulsion force:[ 1.59878467e-05 -1.45770157e-01]\n",
      "repulsion force:[-0.0043535  -0.23680646]\n",
      "repulsion force:[0.00171503 0.28664601]\n",
      "repulsion force:[ 1.96177082e-05 -1.47948584e-01]\n",
      "repulsion force:[-0.00476465 -0.2406526 ]\n",
      "repulsion force:[0.00186835 0.29047173]\n",
      "repulsion force:[ 2.37856148e-05 -1.50193297e-01]\n",
      "repulsion force:[-0.0051979  -0.24461433]\n",
      "repulsion force:[0.00202894 0.29440364]\n",
      "repulsion force:[ 2.85453447e-05 -1.52507409e-01]\n",
      "repulsion force:[-0.00565448 -0.2486967 ]\n",
      "repulsion force:[0.00219721 0.29844629]\n",
      "repulsion force:[ 3.39562671e-05 -1.54894218e-01]\n",
      "repulsion force:[-0.00613567 -0.25290509]\n",
      "repulsion force:[0.00237358 0.3026045 ]\n",
      "repulsion force:[ 4.00840046e-05 -1.57357231e-01]\n",
      "repulsion force:[-0.00664283 -0.25724518]\n",
      "repulsion force:[0.00255853 0.30688343]\n",
      "repulsion force:[ 4.70011788e-05 -1.59900184e-01]\n",
      "repulsion force:[-0.00717742 -0.26172302]\n",
      "repulsion force:[0.00275253 0.31128853]\n",
      "repulsion force:[ 5.47882556e-05 -1.62527063e-01]\n",
      "repulsion force:[-0.00774097 -0.26634508]\n",
      "repulsion force:[0.00295612 0.31582563]\n",
      "repulsion force:[ 6.35345032e-05 -1.65242126e-01]\n",
      "repulsion force:[-0.00833508 -0.27111823]\n",
      "repulsion force:[0.00316984 0.32050091]\n",
      "repulsion force:[ 7.33390852e-05 -1.68049925e-01]\n",
      "repulsion force:[-0.00896147 -0.27604983]\n",
      "repulsion force:[0.0033943  0.32532094]\n",
      "repulsion force:[ 8.43123063e-05 -1.70955333e-01]\n",
      "repulsion force:[-0.00962197 -0.28114774]\n",
      "repulsion force:[0.00363012 0.33029277]\n",
      "repulsion force:[ 9.65770387e-05 -1.73963575e-01]\n",
      "repulsion force:[-0.01031849 -0.28642042]\n",
      "repulsion force:[0.00387799 0.33542389]\n",
      "repulsion force:[ 1.10270357e-04 -1.77080256e-01]\n",
      "repulsion force:[-0.01105308 -0.29187693]\n",
      "repulsion force:[0.00413861 0.34072231]\n",
      "repulsion force:[ 1.25545417e-04 -1.80311399e-01]\n",
      "repulsion force:[-0.01182792 -0.29752703]\n",
      "repulsion force:[0.00441277 0.34619661]\n",
      "repulsion force:[ 1.42573622e-04 -1.83663485e-01]\n",
      "repulsion force:[-0.01264533 -0.30338125]\n",
      "repulsion force:[0.00470128 0.35185599]\n",
      "repulsion force:[ 1.61547122e-04 -1.87143500e-01]\n",
      "repulsion force:[-0.01350778 -0.30945098]\n",
      "repulsion force:[0.005005   0.35771031]\n",
      "repulsion force:[ 1.82681709e-04 -1.90758977e-01]\n",
      "repulsion force:[-0.01441794 -0.31574855]\n",
      "repulsion force:[0.00532487 0.36377016]\n",
      "repulsion force:[ 0.00020622 -0.19451806]\n",
      "repulsion force:[-0.01537864 -0.32228737]\n",
      "repulsion force:[0.00566188 0.37004696]\n",
      "repulsion force:[ 0.00023244 -0.19842957]\n",
      "repulsion force:[-0.01639296 -0.32908202]\n",
      "repulsion force:[0.00601706 0.37655301]\n",
      "repulsion force:[ 0.00026164 -0.20250305]\n",
      "repulsion force:[-0.01746423 -0.33614841]\n",
      "repulsion force:[0.00639153 0.38330158]\n",
      "repulsion force:[ 0.00029418 -0.20674889]\n",
      "repulsion force:[-0.01859607 -0.34350397]\n",
      "repulsion force:[0.00678647 0.39030704]\n",
      "repulsion force:[ 0.00033045 -0.21117837]\n",
      "repulsion force:[-0.01979244 -0.3511678 ]\n",
      "repulsion force:[0.00720312 0.39758496]\n",
      "repulsion force:[ 0.00037091 -0.21580379]\n",
      "repulsion force:[-0.02105769 -0.35916091]\n",
      "repulsion force:[0.00764277 0.40515223]\n",
      "repulsion force:[ 0.00041607 -0.2206386 ]\n",
      "repulsion force:[-0.02239667 -0.36750647]\n",
      "repulsion force:[0.0081068  0.41302726]\n",
      "repulsion force:[ 0.00046652 -0.22569749]\n",
      "repulsion force:[-0.02381478 -0.37623011]\n",
      "repulsion force:[0.00859663 0.42123009]\n",
      "repulsion force:[ 0.00052294 -0.23099657]\n",
      "repulsion force:[-0.0253181  -0.38536023]\n",
      "repulsion force:[0.00911373 0.42978267]\n",
      "repulsion force:[ 0.0005861  -0.23655354]\n",
      "repulsion force:[-0.02691354 -0.39492839]\n",
      "repulsion force:[0.0096596  0.43870902]\n",
      "repulsion force:[ 0.00065689 -0.24238792]\n",
      "repulsion force:[-0.028609   -0.40496977]\n",
      "repulsion force:[0.01023578 0.44803555]\n",
      "repulsion force:[ 0.00073636 -0.24852122]\n",
      "repulsion force:[-0.03041362 -0.41552364]\n",
      "repulsion force:[0.01084378 0.45779138]\n",
      "repulsion force:[ 0.0008257  -0.25497725]\n",
      "repulsion force:[-0.03233802 -0.426634  ]\n",
      "repulsion force:[0.01148508 0.46800871]\n",
      "repulsion force:[ 0.00092632 -0.26178244]\n",
      "repulsion force:[-0.03439469 -0.43835024]\n",
      "repulsion force:[0.01216106 0.47872324]\n",
      "repulsion force:[ 0.00103986 -0.26896618]\n",
      "repulsion force:[-0.03659837 -0.45072787]\n",
      "repulsion force:[0.01287294 0.48997477]\n",
      "repulsion force:[ 0.00116824 -0.27656124]\n",
      "repulsion force:[-0.03896663 -0.46382951]\n",
      "repulsion force:[0.01362168 0.50180776]\n",
      "repulsion force:[ 0.00131375 -0.28460432]\n",
      "repulsion force:[-0.04152055 -0.47772585]\n",
      "repulsion force:[0.01440788 0.51427219]\n",
      "repulsion force:[ 0.00147906 -0.29313657]\n",
      "repulsion force:[-0.04428552 -0.49249692]\n",
      "repulsion force:[0.01523156 0.52742443]\n",
      "repulsion force:[ 0.00166741 -0.30220433]\n",
      "repulsion force:[-0.04729231 -0.5082334 ]\n",
      "repulsion force:[0.01609199 0.54132845]\n",
      "repulsion force:[ 0.00188262 -0.31185995]\n",
      "repulsion force:[-0.05057841 -0.52503826]\n",
      "repulsion force:[0.01698731 0.55605723]\n",
      "repulsion force:[ 0.00212933 -0.32216277]\n",
      "repulsion force:[-0.05418965 -0.54302855]\n",
      "repulsion force:[0.01791419 0.57169458]\n",
      "repulsion force:[ 0.00241316 -0.3331803 ]\n",
      "repulsion force:[-0.05818228 -0.56233753]\n",
      "repulsion force:[0.01886717 0.58833737]\n",
      "repulsion force:[ 0.00274095 -0.34498963]\n",
      "repulsion force:[-0.06262556 -0.58311706]\n",
      "repulsion force:[0.01983792 0.60609849]\n",
      "repulsion force:[ 0.00312109 -0.35767913]\n",
      "repulsion force:[-0.06760505 -0.60554032]\n",
      "repulsion force:[0.02081417 0.62511051]\n",
      "repulsion force:[ 0.003564   -0.37135053]\n",
      "repulsion force:[-0.07322674 -0.62980497]\n",
      "repulsion force:[0.02177815 0.64553059]\n",
      "repulsion force:[ 0.00408265 -0.3861214 ]\n",
      "repulsion force:[-0.07962229 -0.65613668]\n",
      "repulsion force:[0.02270458 0.66754689]\n",
      "repulsion force:[ 0.00469335 -0.4021282 ]\n",
      "repulsion force:[-0.08695577 -0.684793  ]\n",
      "repulsion force:[0.02355769 0.6913872 ]\n",
      "repulsion force:[ 0.00541683 -0.41952995]\n",
      "repulsion force:[-0.09543218 -0.71606774]\n",
      "repulsion force:[0.02428709 0.71733055]\n",
      "repulsion force:[ 0.00627967 -0.4385127 ]\n",
      "repulsion force:[-0.1053085  -0.75029553]\n",
      "repulsion force:[0.02482183 0.74572329]\n",
      "repulsion force:[ 0.00731636 -0.45929503]\n",
      "repulsion force:[-0.11690791 -0.78785643]\n",
      "repulsion force:[0.02506184 0.77700154]\n",
      "repulsion force:[ 0.00857215 -0.48213445]\n",
      "repulsion force:[-0.13063821 -0.82918019]\n",
      "repulsion force:[0.0248653  0.81172302]\n",
      "repulsion force:[ 0.01010721 -0.50733517]\n",
      "repulsion force:[-0.14701582 -0.87474926]\n",
      "repulsion force:[0.02402994 0.85061317]\n",
      "repulsion force:[ 0.01200264 -0.53525687]\n",
      "repulsion force:[-0.16645063 -0.92481438]\n",
      "repulsion force:[0.02226474 0.8946329 ]\n",
      "repulsion force:[ 0.01436947 -0.56632415]\n",
      "repulsion force:[-0.18927142 -0.97951828]\n",
      "repulsion force:[0.01914998 0.9451003 ]\n",
      "repulsion force:[ 0.01736212 -0.60103537]\n",
      "repulsion force:[-0.2162274  -1.03944225]\n",
      "repulsion force:[0.01406981 1.00383653]\n",
      "repulsion force:[ 0.02119911 -0.63996431]\n",
      "repulsion force:[-0.24822181 -1.10504516]\n",
      "repulsion force:[0.00609582 1.07336853]\n",
      "repulsion force:[ 0.02619538 -0.68375465]\n",
      "repulsion force:[-0.2863524  -1.17669104]\n",
      "repulsion force:[-0.00619249  1.15734939]\n",
      "repulsion force:[ 0.03281418 -0.73309507]\n",
      "repulsion force:[-0.33193388 -1.25457013]\n",
      "repulsion force:[-0.02502494  1.26116542]\n",
      "repulsion force:[ 0.04174992 -0.78862102]\n",
      "repulsion force:[-0.38649788 -1.33858069]\n",
      "repulsion force:[-0.05401663  1.39294255]\n",
      "repulsion force:[ 0.05406221 -0.85068405]\n",
      "repulsion force:[-0.45174594 -1.42819263]\n",
      "repulsion force:[-0.09927507  1.56519528]\n",
      "repulsion force:[ 0.07138792 -0.91880799]\n",
      "repulsion force:[-0.52942831 -1.52239678]\n",
      "repulsion force:[-0.17167051  1.79747747]\n",
      "repulsion force:[ 0.09624912 -0.99042726]\n",
      "repulsion force:[-0.62115819 -1.6200764 ]\n",
      "repulsion force:[-0.27180652  2.1724608 ]\n",
      "repulsion force:[ 0.132367   -1.05796625]\n",
      "repulsion force:[-0.71655825 -1.69394649]\n",
      "repulsion force:[-0.43961399  2.63707422]\n",
      "repulsion force:[ 0.18186496 -1.09093751]\n",
      "repulsion force:[-0.83702668 -1.79916348]\n",
      "repulsion force:[-0.76963944  3.31161865]\n",
      "repulsion force:[-0.97620651 -1.93282133]\n",
      "repulsion force:[-0.14007412  2.70780739]\n",
      "repulsion force:[-1.48160495 -2.64169723]\n",
      "repulsion force:[-1.12941441 -2.38576465]\n",
      "repulsion force:[-1.09243692 -2.87634816]\n",
      "repulsion force:[-0.82337846 -2.97401707]\n",
      "repulsion force:[-0.5281584  -3.25833428]\n"
     ]
    },
    {
     "data": {
      "image/png": "[encoded data removed]",
      "text/plain": [
       "<Figure size 640x480 with 1 Axes>"
      ]
     },
     "metadata": {},
     "output_type": "display_data"
    }
   ],
   "source": [
    "env = Environment(width=20, height=10, bottleneck_width=2, bottleneck_height=2)\n",
    "agents = [\n",
    "    Agent(position=[0.5, 1.0], velocity=[0.0, 0.0], radius=0.1),\n",
    "    Agent(position=[0.5, 8.0], velocity=[0.0, 0.0], radius=0.1),\n",
    "    Agent(position=[0.5, 2.0], velocity=[0.0, 0.0], radius=0.1)\n",
    "]\n",
    "\n",
    "\n",
    "gcf_model = GCFModel(environment=env, agents=agents, time_constant = 0.2)\n",
    "gcf_model.animate(steps=100, dt=0.1, interval=100, output_filename=\"crowd_simulation_social_force.gif\", show_forces = True)"
   ]
  },
  {
   "cell_type": "code",
   "execution_count": 2,
   "metadata": {},
   "outputs": [
    {
     "name": "stderr",
     "output_type": "stream",
     "text": [
      "\\\\csce.datastore.ed.ac.uk\\csce\\eng\\users\\s2013568\\Win7\\Desktop\\DEM\\DEM_test\\Ageng_based_simulation\\Force_based_model\\main.py:57: UserWarning: Setting the 'color' property will override the edgecolor or facecolor properties.\n",
      "  agent_circles = [plt.Circle(agent.position, agent.radius, color='b', fill=False, edgecolor='b') for agent in self.agents]\n",
      "\\\\csce.datastore.ed.ac.uk\\csce\\eng\\users\\s2013568\\Win7\\Desktop\\DEM\\DEM_test\\Ageng_based_simulation\\Force_based_model\\main.py:86: UserWarning: Setting the 'color' property will override the edgecolor or facecolor properties.\n",
      "  new_agent_circles = [plt.Circle(agent.position, agent.radius, color='b', fill=False, edgecolor='b') for agent in self.agents]\n"
     ]
    },
    {
     "ename": "ValueError",
     "evalue": "unknown file extension: .gifs",
     "output_type": "error",
     "traceback": [
      "\u001b[1;31m---------------------------------------------------------------------------\u001b[0m",
      "\u001b[1;31mKeyError\u001b[0m                                  Traceback (most recent call last)",
      "File \u001b[1;32m~\\AppData\\Local\\Packages\\PythonSoftwareFoundation.Python.3.8_qbz5n2kfra8p0\\LocalCache\\local-packages\\Python38\\site-packages\\PIL\\Image.py:2543\u001b[0m, in \u001b[0;36mImage.save\u001b[1;34m(self, fp, format, **params)\u001b[0m\n\u001b[0;32m   2542\u001b[0m \u001b[38;5;28;01mtry\u001b[39;00m:\n\u001b[1;32m-> 2543\u001b[0m     \u001b[38;5;28mformat\u001b[39m \u001b[38;5;241m=\u001b[39m \u001b[43mEXTENSION\u001b[49m\u001b[43m[\u001b[49m\u001b[43mext\u001b[49m\u001b[43m]\u001b[49m\n\u001b[0;32m   2544\u001b[0m \u001b[38;5;28;01mexcept\u001b[39;00m \u001b[38;5;167;01mKeyError\u001b[39;00m \u001b[38;5;28;01mas\u001b[39;00m e:\n",
      "\u001b[1;31mKeyError\u001b[0m: '.gifs'",
      "\nThe above exception was the direct cause of the following exception:\n",
      "\u001b[1;31mValueError\u001b[0m                                Traceback (most recent call last)",
      "Cell \u001b[1;32mIn[2], line 17\u001b[0m\n\u001b[0;32m     14\u001b[0m gcf_model \u001b[38;5;241m=\u001b[39m GCFModel(environment\u001b[38;5;241m=\u001b[39menv, agents\u001b[38;5;241m=\u001b[39magents, time_constant\u001b[38;5;241m=\u001b[39m\u001b[38;5;241m1\u001b[39m)\n\u001b[0;32m     16\u001b[0m \u001b[38;5;66;03m# Animate the model\u001b[39;00m\n\u001b[1;32m---> 17\u001b[0m \u001b[43mgcf_model\u001b[49m\u001b[38;5;241;43m.\u001b[39;49m\u001b[43manimate\u001b[49m\u001b[43m(\u001b[49m\u001b[43msteps\u001b[49m\u001b[38;5;241;43m=\u001b[39;49m\u001b[38;5;241;43m1000\u001b[39;49m\u001b[43m,\u001b[49m\u001b[43m \u001b[49m\u001b[43mdt\u001b[49m\u001b[38;5;241;43m=\u001b[39;49m\u001b[38;5;241;43m0.01\u001b[39;49m\u001b[43m,\u001b[49m\u001b[43m \u001b[49m\u001b[43minterval\u001b[49m\u001b[38;5;241;43m=\u001b[39;49m\u001b[38;5;241;43m100\u001b[39;49m\u001b[43m,\u001b[49m\u001b[43m \u001b[49m\u001b[43moutput_filename\u001b[49m\u001b[38;5;241;43m=\u001b[39;49m\u001b[38;5;124;43m\"\u001b[39;49m\u001b[38;5;124;43mcrowd_simulation_social_force.gifs\u001b[39;49m\u001b[38;5;124;43m\"\u001b[39;49m\u001b[43m,\u001b[49m\u001b[43m \u001b[49m\u001b[43mshow_forces\u001b[49m\u001b[38;5;241;43m=\u001b[39;49m\u001b[38;5;28;43;01mTrue\u001b[39;49;00m\u001b[43m)\u001b[49m\n",
      "File \u001b[1;32m\\\\csce.datastore.ed.ac.uk\\csce\\eng\\users\\s2013568\\Win7\\Desktop\\DEM\\DEM_test\\Ageng_based_simulation\\Force_based_model\\main.py:122\u001b[0m, in \u001b[0;36mGCFModel.animate\u001b[1;34m(self, steps, dt, interval, output_filename, show_forces)\u001b[0m\n\u001b[0;32m    118\u001b[0m anim \u001b[38;5;241m=\u001b[39m FuncAnimation(fig, update_animation, frames\u001b[38;5;241m=\u001b[39msteps,\n\u001b[0;32m    119\u001b[0m                     init_func\u001b[38;5;241m=\u001b[39minit, blit\u001b[38;5;241m=\u001b[39m\u001b[38;5;28;01mTrue\u001b[39;00m, interval\u001b[38;5;241m=\u001b[39minterval)\n\u001b[0;32m    121\u001b[0m \u001b[38;5;66;03m# Save the animation as a GIF at 10 frames per second\u001b[39;00m\n\u001b[1;32m--> 122\u001b[0m \u001b[43manim\u001b[49m\u001b[38;5;241;43m.\u001b[39;49m\u001b[43msave\u001b[49m\u001b[43m(\u001b[49m\u001b[43moutput_filename\u001b[49m\u001b[43m,\u001b[49m\u001b[43m \u001b[49m\u001b[43mwriter\u001b[49m\u001b[38;5;241;43m=\u001b[39;49m\u001b[38;5;124;43m'\u001b[39;49m\u001b[38;5;124;43mpillow\u001b[39;49m\u001b[38;5;124;43m'\u001b[39;49m\u001b[43m,\u001b[49m\u001b[43m \u001b[49m\u001b[43mfps\u001b[49m\u001b[38;5;241;43m=\u001b[39;49m\u001b[38;5;241;43m10000\u001b[39;49m\u001b[43m)\u001b[49m\n\u001b[0;32m    125\u001b[0m plt\u001b[38;5;241m.\u001b[39mshow()\n",
      "File \u001b[1;32m~\\AppData\\Local\\Packages\\PythonSoftwareFoundation.Python.3.8_qbz5n2kfra8p0\\LocalCache\\local-packages\\Python38\\site-packages\\matplotlib\\animation.py:1107\u001b[0m, in \u001b[0;36mAnimation.save\u001b[1;34m(self, filename, writer, fps, dpi, codec, bitrate, extra_args, metadata, extra_anim, savefig_kwargs, progress_callback)\u001b[0m\n\u001b[0;32m   1105\u001b[0m         progress_callback(frame_number, total_frames)\n\u001b[0;32m   1106\u001b[0m         frame_number \u001b[38;5;241m+\u001b[39m\u001b[38;5;241m=\u001b[39m \u001b[38;5;241m1\u001b[39m\n\u001b[1;32m-> 1107\u001b[0m writer\u001b[38;5;241m.\u001b[39mgrab_frame(\u001b[38;5;241m*\u001b[39m\u001b[38;5;241m*\u001b[39msavefig_kwargs)\n",
      "File \u001b[1;32mC:\\Program Files\\WindowsApps\\PythonSoftwareFoundation.Python.3.8_3.8.2800.0_x64__qbz5n2kfra8p0\\lib\\contextlib.py:120\u001b[0m, in \u001b[0;36m_GeneratorContextManager.__exit__\u001b[1;34m(self, type, value, traceback)\u001b[0m\n\u001b[0;32m    118\u001b[0m \u001b[38;5;28;01mif\u001b[39;00m \u001b[38;5;28mtype\u001b[39m \u001b[38;5;129;01mis\u001b[39;00m \u001b[38;5;28;01mNone\u001b[39;00m:\n\u001b[0;32m    119\u001b[0m     \u001b[38;5;28;01mtry\u001b[39;00m:\n\u001b[1;32m--> 120\u001b[0m         \u001b[38;5;28;43mnext\u001b[39;49m\u001b[43m(\u001b[49m\u001b[38;5;28;43mself\u001b[39;49m\u001b[38;5;241;43m.\u001b[39;49m\u001b[43mgen\u001b[49m\u001b[43m)\u001b[49m\n\u001b[0;32m    121\u001b[0m     \u001b[38;5;28;01mexcept\u001b[39;00m \u001b[38;5;167;01mStopIteration\u001b[39;00m:\n\u001b[0;32m    122\u001b[0m         \u001b[38;5;28;01mreturn\u001b[39;00m \u001b[38;5;28;01mFalse\u001b[39;00m\n",
      "File \u001b[1;32m~\\AppData\\Local\\Packages\\PythonSoftwareFoundation.Python.3.8_qbz5n2kfra8p0\\LocalCache\\local-packages\\Python38\\site-packages\\matplotlib\\animation.py:235\u001b[0m, in \u001b[0;36mAbstractMovieWriter.saving\u001b[1;34m(self, fig, outfile, dpi, *args, **kwargs)\u001b[0m\n\u001b[0;32m    233\u001b[0m     \u001b[38;5;28;01myield\u001b[39;00m \u001b[38;5;28mself\u001b[39m\n\u001b[0;32m    234\u001b[0m \u001b[38;5;28;01mfinally\u001b[39;00m:\n\u001b[1;32m--> 235\u001b[0m     \u001b[38;5;28;43mself\u001b[39;49m\u001b[38;5;241;43m.\u001b[39;49m\u001b[43mfinish\u001b[49m\u001b[43m(\u001b[49m\u001b[43m)\u001b[49m\n",
      "File \u001b[1;32m~\\AppData\\Local\\Packages\\PythonSoftwareFoundation.Python.3.8_qbz5n2kfra8p0\\LocalCache\\local-packages\\Python38\\site-packages\\matplotlib\\animation.py:501\u001b[0m, in \u001b[0;36mPillowWriter.finish\u001b[1;34m(self)\u001b[0m\n\u001b[0;32m    500\u001b[0m \u001b[38;5;28;01mdef\u001b[39;00m \u001b[38;5;21mfinish\u001b[39m(\u001b[38;5;28mself\u001b[39m):\n\u001b[1;32m--> 501\u001b[0m     \u001b[38;5;28;43mself\u001b[39;49m\u001b[38;5;241;43m.\u001b[39;49m\u001b[43m_frames\u001b[49m\u001b[43m[\u001b[49m\u001b[38;5;241;43m0\u001b[39;49m\u001b[43m]\u001b[49m\u001b[38;5;241;43m.\u001b[39;49m\u001b[43msave\u001b[49m\u001b[43m(\u001b[49m\n\u001b[0;32m    502\u001b[0m \u001b[43m        \u001b[49m\u001b[38;5;28;43mself\u001b[39;49m\u001b[38;5;241;43m.\u001b[39;49m\u001b[43moutfile\u001b[49m\u001b[43m,\u001b[49m\u001b[43m \u001b[49m\u001b[43msave_all\u001b[49m\u001b[38;5;241;43m=\u001b[39;49m\u001b[38;5;28;43;01mTrue\u001b[39;49;00m\u001b[43m,\u001b[49m\u001b[43m \u001b[49m\u001b[43mappend_images\u001b[49m\u001b[38;5;241;43m=\u001b[39;49m\u001b[38;5;28;43mself\u001b[39;49m\u001b[38;5;241;43m.\u001b[39;49m\u001b[43m_frames\u001b[49m\u001b[43m[\u001b[49m\u001b[38;5;241;43m1\u001b[39;49m\u001b[43m:\u001b[49m\u001b[43m]\u001b[49m\u001b[43m,\u001b[49m\n\u001b[0;32m    503\u001b[0m \u001b[43m        \u001b[49m\u001b[43mduration\u001b[49m\u001b[38;5;241;43m=\u001b[39;49m\u001b[38;5;28;43mint\u001b[39;49m\u001b[43m(\u001b[49m\u001b[38;5;241;43m1000\u001b[39;49m\u001b[43m \u001b[49m\u001b[38;5;241;43m/\u001b[39;49m\u001b[43m \u001b[49m\u001b[38;5;28;43mself\u001b[39;49m\u001b[38;5;241;43m.\u001b[39;49m\u001b[43mfps\u001b[49m\u001b[43m)\u001b[49m\u001b[43m,\u001b[49m\u001b[43m \u001b[49m\u001b[43mloop\u001b[49m\u001b[38;5;241;43m=\u001b[39;49m\u001b[38;5;241;43m0\u001b[39;49m\u001b[43m)\u001b[49m\n",
      "File \u001b[1;32m~\\AppData\\Local\\Packages\\PythonSoftwareFoundation.Python.3.8_qbz5n2kfra8p0\\LocalCache\\local-packages\\Python38\\site-packages\\PIL\\Image.py:2546\u001b[0m, in \u001b[0;36mImage.save\u001b[1;34m(self, fp, format, **params)\u001b[0m\n\u001b[0;32m   2544\u001b[0m     \u001b[38;5;28;01mexcept\u001b[39;00m \u001b[38;5;167;01mKeyError\u001b[39;00m \u001b[38;5;28;01mas\u001b[39;00m e:\n\u001b[0;32m   2545\u001b[0m         msg \u001b[38;5;241m=\u001b[39m \u001b[38;5;124mf\u001b[39m\u001b[38;5;124m\"\u001b[39m\u001b[38;5;124munknown file extension: \u001b[39m\u001b[38;5;132;01m{\u001b[39;00mext\u001b[38;5;132;01m}\u001b[39;00m\u001b[38;5;124m\"\u001b[39m\n\u001b[1;32m-> 2546\u001b[0m         \u001b[38;5;28;01mraise\u001b[39;00m \u001b[38;5;167;01mValueError\u001b[39;00m(msg) \u001b[38;5;28;01mfrom\u001b[39;00m \u001b[38;5;21;01me\u001b[39;00m\n\u001b[0;32m   2548\u001b[0m \u001b[38;5;28;01mif\u001b[39;00m \u001b[38;5;28mformat\u001b[39m\u001b[38;5;241m.\u001b[39mupper() \u001b[38;5;129;01mnot\u001b[39;00m \u001b[38;5;129;01min\u001b[39;00m SAVE:\n\u001b[0;32m   2549\u001b[0m     init()\n",
      "\u001b[1;31mValueError\u001b[0m: unknown file extension: .gifs"
     ]
    },
    {
     "data": {
      "image/png": "[encoded data removed]",
      "text/plain": [
       "<Figure size 640x480 with 1 Axes>"
      ]
     },
     "metadata": {},
     "output_type": "display_data"
    }
   ],
   "source": [
    "env = Environment(width=20, height=10, bottleneck_width=2, bottleneck_height=2)\n",
    "\n",
    "# Generate agents to fill from x=0.5 to x=3.5 and y=1 to y=9\n",
    "num_agents = 10  # Define the number of agents\n",
    "x_positions = [0.5, 1.5, 2.5, 3.5]  # Positions along the x-axis\n",
    "y_positions = [1.0, 2.0, 3.0, 4.0, 5.0, 6.0, 7.0, 8.0, 9.0]  # Positions along the y-axis\n",
    "\n",
    "agents = []\n",
    "for y in y_positions:\n",
    "    for x in x_positions:\n",
    "        agents.append(Agent(position=[x, y], velocity=[0.0, 0.0], radius=0.1))\n",
    "\n",
    "# Initialize the GCF model\n",
    "gcf_model = GCFModel(environment=env, agents=agents, time_constant=1)\n",
    "\n",
    "# Animate the model\n",
    "gcf_model.animate(steps=1000, dt=0.01, interval=100, output_filename=\"crowd_simulation_social_force.gifs\", show_forces=True)"
   ]
  },
  {
   "cell_type": "code",
   "execution_count": 5,
   "metadata": {},
   "outputs": [
    {
     "data": {
      "text/plain": [
       "array([11.3137085, 11.3137085])"
      ]
     },
     "execution_count": 5,
     "metadata": {},
     "output_type": "execute_result"
    }
   ],
   "source": [
    "import numpy as np\n",
    "import misc\n",
    "misc.normalize(np.array((1, 1))) * 16"
   ]
  },
  {
   "cell_type": "code",
   "execution_count": 1,
   "metadata": {},
   "outputs": [
    {
     "name": "stdout",
     "output_type": "stream",
     "text": [
      "Collecting ffmpeg-python\n",
      "  Downloading ffmpeg_python-0.2.0-py3-none-any.whl (25 kB)\n",
      "Collecting future\n",
      "  Downloading future-1.0.0-py3-none-any.whl (491 kB)\n",
      "Installing collected packages: future, ffmpeg-python\n",
      "Successfully installed ffmpeg-python-0.2.0 future-1.0.0\n",
      "Note: you may need to restart the kernel to use updated packages.\n"
     ]
    },
    {
     "name": "stderr",
     "output_type": "stream",
     "text": [
      "WARNING: You are using pip version 21.1.1; however, version 24.2 is available.\n",
      "You should consider upgrading via the 'C:\\Users\\s2013568\\AppData\\Local\\Microsoft\\WindowsApps\\PythonSoftwareFoundation.Python.3.8_qbz5n2kfra8p0\\python.exe -m pip install --upgrade pip' command.\n"
     ]
    }
   ],
   "source": [
    "pip install ffmpeg-python"
   ]
  },
  {
   "cell_type": "code",
   "execution_count": 3,
   "metadata": {},
   "outputs": [
    {
     "data": {
      "text/plain": [
       "array([1, 1])"
      ]
     },
     "execution_count": 3,
     "metadata": {},
     "output_type": "execute_result"
    }
   ],
   "source": [
    "import numpy as np\n",
    "np.array((1, 1))"
   ]
  },
  {
   "cell_type": "code",
   "execution_count": 3,
   "metadata": {},
   "outputs": [
    {
     "name": "stdout",
     "output_type": "stream",
     "text": [
      "Requirement already satisfied: pillow in c:\\users\\peter\\appdata\\local\\programs\\python\\python312\\lib\\site-packages (10.3.0)\n",
      "Collecting pillow\n",
      "  Downloading pillow-10.4.0-cp312-cp312-win_amd64.whl.metadata (9.3 kB)\n",
      "Downloading pillow-10.4.0-cp312-cp312-win_amd64.whl (2.6 MB)\n",
      "   ---------------------------------------- 0.0/2.6 MB ? eta -:--:--\n",
      "   -- ------------------------------------- 0.1/2.6 MB 4.3 MB/s eta 0:00:01\n",
      "   --------------- ------------------------ 1.0/2.6 MB 12.5 MB/s eta 0:00:01\n",
      "   --------------------------------- ------ 2.2/2.6 MB 19.8 MB/s eta 0:00:01\n",
      "   ---------------------------------------- 2.6/2.6 MB 16.3 MB/s eta 0:00:00\n",
      "Installing collected packages: pillow\n",
      "  Attempting uninstall: pillow\n",
      "    Found existing installation: pillow 10.3.0\n",
      "    Uninstalling pillow-10.3.0:\n",
      "      Successfully uninstalled pillow-10.3.0\n",
      "Successfully installed pillow-10.4.0\n",
      "Note: you may need to restart the kernel to use updated packages.\n"
     ]
    },
    {
     "name": "stderr",
     "output_type": "stream",
     "text": [
      "  WARNING: Failed to remove contents in a temporary directory 'C:\\Users\\Peter\\AppData\\Local\\Programs\\Python\\Python312\\Lib\\site-packages\\~il'.\n",
      "  You can safely remove it manually.\n",
      "\n",
      "[notice] A new release of pip is available: 24.1.2 -> 24.2\n",
      "[notice] To update, run: python.exe -m pip install --upgrade pip\n"
     ]
    }
   ],
   "source": [
    "pip install --upgrade pillow\n"
   ]
  }
 ],
 "metadata": {
  "kernelspec": {
   "display_name": "Python 3",
   "language": "python",
   "name": "python3"
  },
  "language_info": {
   "codemirror_mode": {
    "name": "ipython",
    "version": 3
   },
   "file_extension": ".py",
   "mimetype": "text/x-python",
   "name": "python",
   "nbconvert_exporter": "python",
   "pygments_lexer": "ipython3",
   "version": "3.8.10"
  }
 },
 "nbformat": 4,
 "nbformat_minor": 2
}
