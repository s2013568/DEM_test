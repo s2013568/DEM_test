{
 "cells": [
  {
   "cell_type": "code",
   "execution_count": 1,
   "metadata": {},
   "outputs": [],
   "source": [
    "from environment import Environment\n",
    "from agent import Agent\n",
    "from main import GCFModel"
   ]
  },
  {
   "cell_type": "code",
   "execution_count": 2,
   "metadata": {},
   "outputs": [
    {
     "name": "stderr",
     "output_type": "stream",
     "text": [
      "\\\\csce.datastore.ed.ac.uk\\csce\\eng\\users\\s2013568\\Win7\\Desktop\\DEM\\DEM_test\\Ageng_based_simulation\\Force_based_model\\main.py:62: UserWarning: Setting the 'color' property will override the edgecolor or facecolor properties.\n",
      "  agent_circles = [patches.Ellipse(agent.position, 2*agent.a, 2*agent.b,angle=misc.calculate_angle(agent.velocity), color='b', fill=False, edgecolor='b') for agent in self.agents]\n",
      "\\\\csce.datastore.ed.ac.uk\\csce\\eng\\users\\s2013568\\Win7\\Desktop\\DEM\\DEM_test\\Ageng_based_simulation\\Force_based_model\\main.py:92: UserWarning: Setting the 'color' property will override the edgecolor or facecolor properties.\n",
      "  new_agent_circles = [patches.Ellipse(agent.position, 2*agent.a, 2*agent.b, angle=misc.calculate_angle(agent.velocity), color='b', fill=False, edgecolor='b') for agent in self.agents]\n"
     ]
    }
   ],
   "source": [
    "env = Environment(width=20, height=10, bottleneck_width=0, bottleneck_height=10)\n",
    "agents = [\n",
    "    Agent(position=[0.5, 1.0], velocity=[0.0, 0.0],a_min = 0.3, b_min = 0.1, tau = 0.5, f = 1.25),\n",
    "    Agent(position=[0.5, 8.0], velocity=[0.0, 0.0], a_min = 0.3, b_min = 0.1, tau = 0.5, f = 1.25),\n",
    "    Agent(position=[0.5, 2.0], velocity=[0.0, 0.0], a_min = 0.3, b_min = 0.1, tau = 0.5, f = 1.25),\n",
    "    Agent(position=[0.5, 3.0], velocity=[0.0, 0.0], a_min = 0.3, b_min = 0.1, tau = 0.5, f = 1.25),\n",
    "    Agent(position=[0.5, 4.0], velocity=[0.0, 0.0], a_min = 0.3, b_min = 0.1, tau = 0.5, f = 1.25),\n",
    "    Agent(position=[0.5, 5.0], velocity=[0.0, 0.0], a_min = 0.3, b_min = 0.1, tau = 0.5, f = 1.25)\n",
    "    ,Agent(position=[0.5, 6.0], velocity=[0.0, 0.0], a_min = 0.3, b_min = 0.1, tau = 0.5, f = 1.25),\n",
    "    Agent(position=[0.5, 7.0], velocity=[0.0, 0.0], a_min = 0.3, b_min = 0.1, tau = 0.5, f = 1.25),\n",
    "    Agent(position=[2.5, 1.0], velocity=[0.0, 0.0], a_min = 0.3, b_min = 0.1, tau = 0.5, f = 1.25),\n",
    "    Agent(position=[2.5, 2.0], velocity=[0.0, 0.0], a_min = 0.3, b_min = 0.1, tau = 0.5, f = 1.25),\n",
    "    Agent(position=[2.5, 3.0], velocity=[0.0, 0.0], a_min = 0.3, b_min = 0.1, tau = 0.5, f = 1.25),\n",
    "    Agent(position=[2.5, 4.0], velocity=[0.0, 0.0], a_min = 0.3, b_min = 0.1, tau = 0.5, f = 1.25),\n",
    "    Agent(position=[2.5, 5.0], velocity=[0.0, 0.0], a_min = 0.3, b_min = 0.1, tau = 0.5, f = 1.25),\n",
    "    Agent(position=[2.5, 6.0], velocity=[0.0, 0.0], a_min = 0.3, b_min = 0.1, tau = 0.5, f = 1.25),\n",
    "    Agent(position=[2.5, 7.0], velocity=[0.0, 0.0], a_min = 0.3, b_min = 0.1, tau = 0.5, f = 1.25),\n",
    "    Agent(position=[2.5, 8.0], velocity=[0.0, 0.0], a_min = 0.3, b_min = 0.1, tau = 0.5, f = 1.25),\n",
    "    Agent(position=[3.5, 1.0], velocity=[0.0, 0.0], a_min = 0.3, b_min = 0.1, tau = 0.5, f = 1.25),\n",
    "    Agent(position=[3.5, 2.0], velocity=[0.0, 0.0], a_min = 0.3, b_min = 0.1, tau = 0.5, f = 1.25),\n",
    "    Agent(position=[3.5, 3.0], velocity=[0.0, 0.0], a_min = 0.3, b_min = 0.1, tau = 0.5, f = 1.25),\n",
    "    Agent(position=[3.5, 4.0], velocity=[0.0, 0.0], a_min = 0.3, b_min = 0.1, tau = 0.5, f = 1.25),\n",
    "    Agent(position=[3.5, 5.0], velocity=[0.0, 0.0], a_min = 0.3, b_min = 0.1, tau = 0.5, f = 1.25),\n",
    "    Agent(position=[3.5, 6.0], velocity=[0.0, 0.0], a_min = 0.3, b_min = 0.1, tau = 0.5, f = 1.25),\n",
    "    Agent(position=[3.5, 7.0], velocity=[0.0, 0.0], a_min = 0.3, b_min = 0.1, tau = 0.5, f = 1.25),\n",
    "    Agent(position=[3.5, 8.0], velocity=[0.0, 0.0], a_min = 0.3, b_min = 0.1, tau = 0.5, f = 1.25)\n",
    "]\n",
    "\n",
    "\n",
    "gcf_model = GCFModel(environment=env, agents=agents, time_constant = 0.2, eta = 1.0)\n",
    "gcf_model.animate(steps=10000, dt=0.002, interval=100, output_filename=\"crowd_simulation_social_force_ellipse_mass_norm.gif\", show_forces = True)"
   ]
  },
  {
   "cell_type": "code",
   "execution_count": 3,
   "metadata": {},
   "outputs": [
    {
     "name": "stderr",
     "output_type": "stream",
     "text": [
      "\\\\csce.datastore.ed.ac.uk\\csce\\eng\\users\\s2013568\\Win7\\Desktop\\DEM\\DEM_test\\Ageng_based_simulation\\Force_based_model\\main.py:62: UserWarning: Setting the 'color' property will override the edgecolor or facecolor properties.\n",
      "  agent_circles = [patches.Ellipse(agent.position, 2*agent.a, 2*agent.b,angle=misc.calculate_angle(agent.velocity), color='b', fill=False, edgecolor='b') for agent in self.agents]\n"
     ]
    },
    {
     "ename": "IndexError",
     "evalue": "list index out of range",
     "output_type": "error",
     "traceback": [
      "\u001b[1;31m---------------------------------------------------------------------------\u001b[0m",
      "\u001b[1;31mTypeError\u001b[0m                                 Traceback (most recent call last)",
      "File \u001b[1;32m~\\AppData\\Local\\Packages\\PythonSoftwareFoundation.Python.3.8_qbz5n2kfra8p0\\LocalCache\\local-packages\\Python38\\site-packages\\matplotlib\\animation.py:233\u001b[0m, in \u001b[0;36mAbstractMovieWriter.saving\u001b[1;34m(self, fig, outfile, dpi, *args, **kwargs)\u001b[0m\n\u001b[0;32m    232\u001b[0m \u001b[38;5;28;01mtry\u001b[39;00m:\n\u001b[1;32m--> 233\u001b[0m     \u001b[38;5;28;01myield\u001b[39;00m \u001b[38;5;28mself\u001b[39m\n\u001b[0;32m    234\u001b[0m \u001b[38;5;28;01mfinally\u001b[39;00m:\n",
      "File \u001b[1;32m~\\AppData\\Local\\Packages\\PythonSoftwareFoundation.Python.3.8_qbz5n2kfra8p0\\LocalCache\\local-packages\\Python38\\site-packages\\matplotlib\\animation.py:1103\u001b[0m, in \u001b[0;36mAnimation.save\u001b[1;34m(self, filename, writer, fps, dpi, codec, bitrate, extra_args, metadata, extra_anim, savefig_kwargs, progress_callback)\u001b[0m\n\u001b[0;32m   1101\u001b[0m \u001b[38;5;28;01mfor\u001b[39;00m anim, d \u001b[38;5;129;01min\u001b[39;00m \u001b[38;5;28mzip\u001b[39m(all_anim, data):\n\u001b[0;32m   1102\u001b[0m     \u001b[38;5;66;03m# TODO: See if turning off blit is really necessary\u001b[39;00m\n\u001b[1;32m-> 1103\u001b[0m     \u001b[43manim\u001b[49m\u001b[38;5;241;43m.\u001b[39;49m\u001b[43m_draw_next_frame\u001b[49m\u001b[43m(\u001b[49m\u001b[43md\u001b[49m\u001b[43m,\u001b[49m\u001b[43m \u001b[49m\u001b[43mblit\u001b[49m\u001b[38;5;241;43m=\u001b[39;49m\u001b[38;5;28;43;01mFalse\u001b[39;49;00m\u001b[43m)\u001b[49m\n\u001b[0;32m   1104\u001b[0m     \u001b[38;5;28;01mif\u001b[39;00m progress_callback \u001b[38;5;129;01mis\u001b[39;00m \u001b[38;5;129;01mnot\u001b[39;00m \u001b[38;5;28;01mNone\u001b[39;00m:\n",
      "File \u001b[1;32m~\\AppData\\Local\\Packages\\PythonSoftwareFoundation.Python.3.8_qbz5n2kfra8p0\\LocalCache\\local-packages\\Python38\\site-packages\\matplotlib\\animation.py:1138\u001b[0m, in \u001b[0;36mAnimation._draw_next_frame\u001b[1;34m(self, framedata, blit)\u001b[0m\n\u001b[0;32m   1137\u001b[0m \u001b[38;5;28mself\u001b[39m\u001b[38;5;241m.\u001b[39m_pre_draw(framedata, blit)\n\u001b[1;32m-> 1138\u001b[0m \u001b[38;5;28;43mself\u001b[39;49m\u001b[38;5;241;43m.\u001b[39;49m\u001b[43m_draw_frame\u001b[49m\u001b[43m(\u001b[49m\u001b[43mframedata\u001b[49m\u001b[43m)\u001b[49m\n\u001b[0;32m   1139\u001b[0m \u001b[38;5;28mself\u001b[39m\u001b[38;5;241m.\u001b[39m_post_draw(framedata, blit)\n",
      "File \u001b[1;32m~\\AppData\\Local\\Packages\\PythonSoftwareFoundation.Python.3.8_qbz5n2kfra8p0\\LocalCache\\local-packages\\Python38\\site-packages\\matplotlib\\animation.py:1767\u001b[0m, in \u001b[0;36mFuncAnimation._draw_frame\u001b[1;34m(self, framedata)\u001b[0m\n\u001b[0;32m   1765\u001b[0m \u001b[38;5;66;03m# Call the func with framedata and args. If blitting is desired,\u001b[39;00m\n\u001b[0;32m   1766\u001b[0m \u001b[38;5;66;03m# func needs to return a sequence of any artists that were modified.\u001b[39;00m\n\u001b[1;32m-> 1767\u001b[0m \u001b[38;5;28mself\u001b[39m\u001b[38;5;241m.\u001b[39m_drawn_artists \u001b[38;5;241m=\u001b[39m \u001b[38;5;28;43mself\u001b[39;49m\u001b[38;5;241;43m.\u001b[39;49m\u001b[43m_func\u001b[49m\u001b[43m(\u001b[49m\u001b[43mframedata\u001b[49m\u001b[43m,\u001b[49m\u001b[43m \u001b[49m\u001b[38;5;241;43m*\u001b[39;49m\u001b[38;5;28;43mself\u001b[39;49m\u001b[38;5;241;43m.\u001b[39;49m\u001b[43m_args\u001b[49m\u001b[43m)\u001b[49m\n\u001b[0;32m   1769\u001b[0m \u001b[38;5;28;01mif\u001b[39;00m \u001b[38;5;28mself\u001b[39m\u001b[38;5;241m.\u001b[39m_blit:\n",
      "File \u001b[1;32m\\\\csce.datastore.ed.ac.uk\\csce\\eng\\users\\s2013568\\Win7\\Desktop\\DEM\\DEM_test\\Ageng_based_simulation\\Force_based_model\\main.py:88\u001b[0m, in \u001b[0;36mGCFModel.animate.<locals>.update_animation\u001b[1;34m(frame)\u001b[0m\n\u001b[0;32m     87\u001b[0m \u001b[38;5;28;01mnonlocal\u001b[39;00m forces\n\u001b[1;32m---> 88\u001b[0m \u001b[38;5;28;43mself\u001b[39;49m\u001b[38;5;241;43m.\u001b[39;49m\u001b[43mupdate\u001b[49m\u001b[43m(\u001b[49m\u001b[43mdt\u001b[49m\u001b[43m)\u001b[49m\n\u001b[0;32m     90\u001b[0m \u001b[38;5;66;03m# Remove agent circles if agents were removed and rebuild list\u001b[39;00m\n\u001b[0;32m     91\u001b[0m \u001b[38;5;66;03m# new_agent_circles = [plt.Circle(agent.position, agent.radius, color='b', fill=False, edgecolor='b') for agent in self.agents]\u001b[39;00m\n",
      "File \u001b[1;32m\\\\csce.datastore.ed.ac.uk\\csce\\eng\\users\\s2013568\\Win7\\Desktop\\DEM\\DEM_test\\Ageng_based_simulation\\Force_based_model\\main.py:22\u001b[0m, in \u001b[0;36mGCFModel.update\u001b[1;34m(self, dt)\u001b[0m\n\u001b[0;32m     21\u001b[0m \u001b[38;5;250m\u001b[39m\u001b[38;5;124;03m\"\"\" Update the state of the model by one time step \"\"\"\u001b[39;00m\n\u001b[1;32m---> 22\u001b[0m \u001b[38;5;28;43mself\u001b[39;49m\u001b[38;5;241;43m.\u001b[39;49m\u001b[43mcalculate_forces\u001b[49m\u001b[43m(\u001b[49m\u001b[43m)\u001b[49m  \u001b[38;5;66;03m# Calculate forces for all agents\u001b[39;00m\n\u001b[0;32m     23\u001b[0m agents_to_remove \u001b[38;5;241m=\u001b[39m []\n",
      "File \u001b[1;32m\\\\csce.datastore.ed.ac.uk\\csce\\eng\\users\\s2013568\\Win7\\Desktop\\DEM\\DEM_test\\Ageng_based_simulation\\Force_based_model\\main.py:17\u001b[0m, in \u001b[0;36mGCFModel.calculate_forces\u001b[1;34m(self)\u001b[0m\n\u001b[0;32m     16\u001b[0m \u001b[38;5;28;01mdef\u001b[39;00m \u001b[38;5;21mcalculate_forces\u001b[39m(\u001b[38;5;28mself\u001b[39m):\n\u001b[1;32m---> 17\u001b[0m     \u001b[38;5;28;43mself\u001b[39;49m\u001b[38;5;241;43m.\u001b[39;49m\u001b[43mforce\u001b[49m\u001b[38;5;241;43m.\u001b[39;49m\u001b[43mpoint_direction_method\u001b[49m\u001b[43m(\u001b[49m\u001b[43mvector\u001b[49m\u001b[43m \u001b[49m\u001b[38;5;241;43m=\u001b[39;49m\u001b[43m \u001b[49m\u001b[43m(\u001b[49m\u001b[38;5;241;43m10\u001b[39;49m\u001b[43m,\u001b[49m\u001b[43m \u001b[49m\u001b[38;5;241;43m5\u001b[39;49m\u001b[43m)\u001b[49m\u001b[43m)\u001b[49m\n\u001b[0;32m     18\u001b[0m     \u001b[38;5;28mself\u001b[39m\u001b[38;5;241m.\u001b[39mforce\u001b[38;5;241m.\u001b[39mcalculate_repulsive_forces(eta \u001b[38;5;241m=\u001b[39m \u001b[38;5;28mself\u001b[39m\u001b[38;5;241m.\u001b[39meta)\n",
      "\u001b[1;31mTypeError\u001b[0m: point_direction_method() got an unexpected keyword argument 'vector'",
      "\nDuring handling of the above exception, another exception occurred:\n",
      "\u001b[1;31mIndexError\u001b[0m                                Traceback (most recent call last)",
      "Cell \u001b[1;32mIn[3], line 8\u001b[0m\n\u001b[0;32m      2\u001b[0m agents \u001b[38;5;241m=\u001b[39m [\n\u001b[0;32m      3\u001b[0m     Agent(position\u001b[38;5;241m=\u001b[39m[\u001b[38;5;241m0.5\u001b[39m, \u001b[38;5;241m1.0\u001b[39m], velocity\u001b[38;5;241m=\u001b[39m[\u001b[38;5;241m0.0\u001b[39m, \u001b[38;5;241m0.0\u001b[39m],a_min \u001b[38;5;241m=\u001b[39m \u001b[38;5;241m0.3\u001b[39m, b_min \u001b[38;5;241m=\u001b[39m \u001b[38;5;241m0.1\u001b[39m, tau \u001b[38;5;241m=\u001b[39m \u001b[38;5;241m0.5\u001b[39m, f \u001b[38;5;241m=\u001b[39m \u001b[38;5;241m2\u001b[39m)\n\u001b[0;32m      4\u001b[0m ]\n\u001b[0;32m      7\u001b[0m gcf_model \u001b[38;5;241m=\u001b[39m GCFModel(environment\u001b[38;5;241m=\u001b[39menv, agents\u001b[38;5;241m=\u001b[39magents, time_constant \u001b[38;5;241m=\u001b[39m \u001b[38;5;241m0.2\u001b[39m, eta \u001b[38;5;241m=\u001b[39m \u001b[38;5;241m1.0\u001b[39m)\n\u001b[1;32m----> 8\u001b[0m \u001b[43mgcf_model\u001b[49m\u001b[38;5;241;43m.\u001b[39;49m\u001b[43manimate\u001b[49m\u001b[43m(\u001b[49m\u001b[43msteps\u001b[49m\u001b[38;5;241;43m=\u001b[39;49m\u001b[38;5;241;43m1000\u001b[39;49m\u001b[43m,\u001b[49m\u001b[43m \u001b[49m\u001b[43mdt\u001b[49m\u001b[38;5;241;43m=\u001b[39;49m\u001b[38;5;241;43m0.01\u001b[39;49m\u001b[43m,\u001b[49m\u001b[43m \u001b[49m\u001b[43minterval\u001b[49m\u001b[38;5;241;43m=\u001b[39;49m\u001b[38;5;241;43m100\u001b[39;49m\u001b[43m,\u001b[49m\u001b[43m \u001b[49m\u001b[43moutput_filename\u001b[49m\u001b[38;5;241;43m=\u001b[39;49m\u001b[38;5;124;43m\"\u001b[39;49m\u001b[38;5;124;43mcrowd_simulation_social_force_ellipse_mass.gif\u001b[39;49m\u001b[38;5;124;43m\"\u001b[39;49m\u001b[43m,\u001b[49m\u001b[43m \u001b[49m\u001b[43mshow_forces\u001b[49m\u001b[43m \u001b[49m\u001b[38;5;241;43m=\u001b[39;49m\u001b[43m \u001b[49m\u001b[38;5;28;43;01mTrue\u001b[39;49;00m\u001b[43m)\u001b[49m\n",
      "File \u001b[1;32m\\\\csce.datastore.ed.ac.uk\\csce\\eng\\users\\s2013568\\Win7\\Desktop\\DEM\\DEM_test\\Ageng_based_simulation\\Force_based_model\\main.py:131\u001b[0m, in \u001b[0;36mGCFModel.animate\u001b[1;34m(self, steps, dt, interval, output_filename, show_forces)\u001b[0m\n\u001b[0;32m    127\u001b[0m anim \u001b[38;5;241m=\u001b[39m FuncAnimation(fig, update_animation, frames\u001b[38;5;241m=\u001b[39msteps,\n\u001b[0;32m    128\u001b[0m                     init_func\u001b[38;5;241m=\u001b[39minit, blit\u001b[38;5;241m=\u001b[39m\u001b[38;5;28;01mTrue\u001b[39;00m, interval\u001b[38;5;241m=\u001b[39minterval)\n\u001b[0;32m    130\u001b[0m \u001b[38;5;66;03m# Save the animation as a GIF at 10 frames per second\u001b[39;00m\n\u001b[1;32m--> 131\u001b[0m \u001b[43manim\u001b[49m\u001b[38;5;241;43m.\u001b[39;49m\u001b[43msave\u001b[49m\u001b[43m(\u001b[49m\u001b[43moutput_filename\u001b[49m\u001b[43m,\u001b[49m\u001b[43m \u001b[49m\u001b[43mwriter\u001b[49m\u001b[38;5;241;43m=\u001b[39;49m\u001b[38;5;124;43m'\u001b[39;49m\u001b[38;5;124;43mpillow\u001b[39;49m\u001b[38;5;124;43m'\u001b[39;49m\u001b[43m,\u001b[49m\u001b[43m \u001b[49m\u001b[43mfps\u001b[49m\u001b[38;5;241;43m=\u001b[39;49m\u001b[38;5;241;43m10000\u001b[39;49m\u001b[43m)\u001b[49m\n\u001b[0;32m    134\u001b[0m plt\u001b[38;5;241m.\u001b[39mshow()\n",
      "File \u001b[1;32m~\\AppData\\Local\\Packages\\PythonSoftwareFoundation.Python.3.8_qbz5n2kfra8p0\\LocalCache\\local-packages\\Python38\\site-packages\\matplotlib\\animation.py:1107\u001b[0m, in \u001b[0;36mAnimation.save\u001b[1;34m(self, filename, writer, fps, dpi, codec, bitrate, extra_args, metadata, extra_anim, savefig_kwargs, progress_callback)\u001b[0m\n\u001b[0;32m   1105\u001b[0m         progress_callback(frame_number, total_frames)\n\u001b[0;32m   1106\u001b[0m         frame_number \u001b[38;5;241m+\u001b[39m\u001b[38;5;241m=\u001b[39m \u001b[38;5;241m1\u001b[39m\n\u001b[1;32m-> 1107\u001b[0m writer\u001b[38;5;241m.\u001b[39mgrab_frame(\u001b[38;5;241m*\u001b[39m\u001b[38;5;241m*\u001b[39msavefig_kwargs)\n",
      "File \u001b[1;32mC:\\Program Files\\WindowsApps\\PythonSoftwareFoundation.Python.3.8_3.8.2800.0_x64__qbz5n2kfra8p0\\lib\\contextlib.py:131\u001b[0m, in \u001b[0;36m_GeneratorContextManager.__exit__\u001b[1;34m(self, type, value, traceback)\u001b[0m\n\u001b[0;32m    129\u001b[0m     value \u001b[38;5;241m=\u001b[39m \u001b[38;5;28mtype\u001b[39m()\n\u001b[0;32m    130\u001b[0m \u001b[38;5;28;01mtry\u001b[39;00m:\n\u001b[1;32m--> 131\u001b[0m     \u001b[38;5;28;43mself\u001b[39;49m\u001b[38;5;241;43m.\u001b[39;49m\u001b[43mgen\u001b[49m\u001b[38;5;241;43m.\u001b[39;49m\u001b[43mthrow\u001b[49m\u001b[43m(\u001b[49m\u001b[38;5;28;43mtype\u001b[39;49m\u001b[43m,\u001b[49m\u001b[43m \u001b[49m\u001b[43mvalue\u001b[49m\u001b[43m,\u001b[49m\u001b[43m \u001b[49m\u001b[43mtraceback\u001b[49m\u001b[43m)\u001b[49m\n\u001b[0;32m    132\u001b[0m \u001b[38;5;28;01mexcept\u001b[39;00m \u001b[38;5;167;01mStopIteration\u001b[39;00m \u001b[38;5;28;01mas\u001b[39;00m exc:\n\u001b[0;32m    133\u001b[0m     \u001b[38;5;66;03m# Suppress StopIteration *unless* it's the same exception that\u001b[39;00m\n\u001b[0;32m    134\u001b[0m     \u001b[38;5;66;03m# was passed to throw().  This prevents a StopIteration\u001b[39;00m\n\u001b[0;32m    135\u001b[0m     \u001b[38;5;66;03m# raised inside the \"with\" statement from being suppressed.\u001b[39;00m\n\u001b[0;32m    136\u001b[0m     \u001b[38;5;28;01mreturn\u001b[39;00m exc \u001b[38;5;129;01mis\u001b[39;00m \u001b[38;5;129;01mnot\u001b[39;00m value\n",
      "File \u001b[1;32m~\\AppData\\Local\\Packages\\PythonSoftwareFoundation.Python.3.8_qbz5n2kfra8p0\\LocalCache\\local-packages\\Python38\\site-packages\\matplotlib\\animation.py:235\u001b[0m, in \u001b[0;36mAbstractMovieWriter.saving\u001b[1;34m(self, fig, outfile, dpi, *args, **kwargs)\u001b[0m\n\u001b[0;32m    233\u001b[0m     \u001b[38;5;28;01myield\u001b[39;00m \u001b[38;5;28mself\u001b[39m\n\u001b[0;32m    234\u001b[0m \u001b[38;5;28;01mfinally\u001b[39;00m:\n\u001b[1;32m--> 235\u001b[0m     \u001b[38;5;28;43mself\u001b[39;49m\u001b[38;5;241;43m.\u001b[39;49m\u001b[43mfinish\u001b[49m\u001b[43m(\u001b[49m\u001b[43m)\u001b[49m\n",
      "File \u001b[1;32m~\\AppData\\Local\\Packages\\PythonSoftwareFoundation.Python.3.8_qbz5n2kfra8p0\\LocalCache\\local-packages\\Python38\\site-packages\\matplotlib\\animation.py:501\u001b[0m, in \u001b[0;36mPillowWriter.finish\u001b[1;34m(self)\u001b[0m\n\u001b[0;32m    500\u001b[0m \u001b[38;5;28;01mdef\u001b[39;00m \u001b[38;5;21mfinish\u001b[39m(\u001b[38;5;28mself\u001b[39m):\n\u001b[1;32m--> 501\u001b[0m     \u001b[38;5;28;43mself\u001b[39;49m\u001b[38;5;241;43m.\u001b[39;49m\u001b[43m_frames\u001b[49m\u001b[43m[\u001b[49m\u001b[38;5;241;43m0\u001b[39;49m\u001b[43m]\u001b[49m\u001b[38;5;241m.\u001b[39msave(\n\u001b[0;32m    502\u001b[0m         \u001b[38;5;28mself\u001b[39m\u001b[38;5;241m.\u001b[39moutfile, save_all\u001b[38;5;241m=\u001b[39m\u001b[38;5;28;01mTrue\u001b[39;00m, append_images\u001b[38;5;241m=\u001b[39m\u001b[38;5;28mself\u001b[39m\u001b[38;5;241m.\u001b[39m_frames[\u001b[38;5;241m1\u001b[39m:],\n\u001b[0;32m    503\u001b[0m         duration\u001b[38;5;241m=\u001b[39m\u001b[38;5;28mint\u001b[39m(\u001b[38;5;241m1000\u001b[39m \u001b[38;5;241m/\u001b[39m \u001b[38;5;28mself\u001b[39m\u001b[38;5;241m.\u001b[39mfps), loop\u001b[38;5;241m=\u001b[39m\u001b[38;5;241m0\u001b[39m)\n",
      "\u001b[1;31mIndexError\u001b[0m: list index out of range"
     ]
    },
    {
     "data": {
      "image/png": "[encoded data removed]",
      "text/plain": [
       "<Figure size 640x480 with 1 Axes>"
      ]
     },
     "metadata": {},
     "output_type": "display_data"
    }
   ],
   "source": [
    "env = Environment(width=20, height=10, bottleneck_width=0, bottleneck_height=10)\n",
    "agents = [\n",
    "    Agent(position=[0.5, 1.0], velocity=[0.0, 0.0],a_min = 0.3, b_min = 0.1, tau = 0.5, f = 2)\n",
    "]\n",
    "\n",
    "\n",
    "gcf_model = GCFModel(environment=env, agents=agents, time_constant = 0.2, eta = 1.0)\n",
    "gcf_model.animate(steps=1000, dt=0.01, interval=100, output_filename=\"crowd_simulation_social_force_ellipse_mass.gif\", show_forces = True)"
   ]
  },
  {
   "cell_type": "code",
   "execution_count": 3,
   "metadata": {},
   "outputs": [
    {
     "ename": "TypeError",
     "evalue": "__init__() got an unexpected keyword argument 'radius'",
     "output_type": "error",
     "traceback": [
      "\u001b[1;31m---------------------------------------------------------------------------\u001b[0m",
      "\u001b[1;31mTypeError\u001b[0m                                 Traceback (most recent call last)",
      "Cell \u001b[1;32mIn[3], line 3\u001b[0m\n\u001b[0;32m      1\u001b[0m env \u001b[38;5;241m=\u001b[39m Environment(width\u001b[38;5;241m=\u001b[39m\u001b[38;5;241m20\u001b[39m, height\u001b[38;5;241m=\u001b[39m\u001b[38;5;241m10\u001b[39m, bottleneck_width\u001b[38;5;241m=\u001b[39m\u001b[38;5;241m0\u001b[39m, bottleneck_height\u001b[38;5;241m=\u001b[39m\u001b[38;5;241m10\u001b[39m)\n\u001b[0;32m      2\u001b[0m agents \u001b[38;5;241m=\u001b[39m [\n\u001b[1;32m----> 3\u001b[0m     \u001b[43mAgent\u001b[49m\u001b[43m(\u001b[49m\u001b[43mposition\u001b[49m\u001b[38;5;241;43m=\u001b[39;49m\u001b[43m[\u001b[49m\u001b[38;5;241;43m0.5\u001b[39;49m\u001b[43m,\u001b[49m\u001b[43m \u001b[49m\u001b[38;5;241;43m1.0\u001b[39;49m\u001b[43m]\u001b[49m\u001b[43m,\u001b[49m\u001b[43m \u001b[49m\u001b[43mvelocity\u001b[49m\u001b[38;5;241;43m=\u001b[39;49m\u001b[43m[\u001b[49m\u001b[38;5;241;43m0.0\u001b[39;49m\u001b[43m,\u001b[49m\u001b[43m \u001b[49m\u001b[38;5;241;43m0.0\u001b[39;49m\u001b[43m]\u001b[49m\u001b[43m,\u001b[49m\u001b[43m \u001b[49m\u001b[43mradius\u001b[49m\u001b[38;5;241;43m=\u001b[39;49m\u001b[38;5;241;43m0.1\u001b[39;49m\u001b[43m)\u001b[49m,\n\u001b[0;32m      4\u001b[0m     Agent(position\u001b[38;5;241m=\u001b[39m[\u001b[38;5;241m0.5\u001b[39m, \u001b[38;5;241m8.0\u001b[39m], velocity\u001b[38;5;241m=\u001b[39m[\u001b[38;5;241m0.0\u001b[39m, \u001b[38;5;241m0.0\u001b[39m], radius\u001b[38;5;241m=\u001b[39m\u001b[38;5;241m0.1\u001b[39m),\n\u001b[0;32m      5\u001b[0m     Agent(position\u001b[38;5;241m=\u001b[39m[\u001b[38;5;241m0.5\u001b[39m, \u001b[38;5;241m2.0\u001b[39m], velocity\u001b[38;5;241m=\u001b[39m[\u001b[38;5;241m0.0\u001b[39m, \u001b[38;5;241m0.0\u001b[39m], radius\u001b[38;5;241m=\u001b[39m\u001b[38;5;241m0.1\u001b[39m)\n\u001b[0;32m      6\u001b[0m ]\n\u001b[0;32m      9\u001b[0m gcf_model \u001b[38;5;241m=\u001b[39m GCFModel(environment\u001b[38;5;241m=\u001b[39menv, agents\u001b[38;5;241m=\u001b[39magents, time_constant \u001b[38;5;241m=\u001b[39m \u001b[38;5;241m0.2\u001b[39m)\n\u001b[0;32m     10\u001b[0m gcf_model\u001b[38;5;241m.\u001b[39manimate(steps\u001b[38;5;241m=\u001b[39m\u001b[38;5;241m100\u001b[39m, dt\u001b[38;5;241m=\u001b[39m\u001b[38;5;241m0.1\u001b[39m, interval\u001b[38;5;241m=\u001b[39m\u001b[38;5;241m100\u001b[39m, output_filename\u001b[38;5;241m=\u001b[39m\u001b[38;5;124m\"\u001b[39m\u001b[38;5;124mcrowd_simulation_social_force.gif\u001b[39m\u001b[38;5;124m\"\u001b[39m, show_forces \u001b[38;5;241m=\u001b[39m \u001b[38;5;28;01mTrue\u001b[39;00m)\n",
      "\u001b[1;31mTypeError\u001b[0m: __init__() got an unexpected keyword argument 'radius'"
     ]
    }
   ],
   "source": [
    "env = Environment(width=20, height=10, bottleneck_width=0, bottleneck_height=10)\n",
    "agents = [\n",
    "    Agent(position=[0.5, 1.0], velocity=[0.0, 0.0], radius=0.1),\n",
    "    Agent(position=[0.5, 8.0], velocity=[0.0, 0.0], radius=0.1),\n",
    "    Agent(position=[0.5, 2.0], velocity=[0.0, 0.0], radius=0.1)\n",
    "]\n",
    "\n",
    "\n",
    "gcf_model = GCFModel(environment=env, agents=agents, time_constant = 0.2)\n",
    "gcf_model.animate(steps=100, dt=0.1, interval=100, output_filename=\"crowd_simulation_social_force_new.gif\", show_forces = True)"
   ]
  },
  {
   "cell_type": "code",
   "execution_count": 2,
   "metadata": {},
   "outputs": [
    {
     "name": "stderr",
     "output_type": "stream",
     "text": [
      "\\\\csce.datastore.ed.ac.uk\\csce\\eng\\users\\s2013568\\Win7\\Desktop\\DEM\\DEM_test\\Ageng_based_simulation\\Force_based_model\\main.py:57: UserWarning: Setting the 'color' property will override the edgecolor or facecolor properties.\n",
      "  agent_circles = [plt.Circle(agent.position, agent.radius, color='b', fill=False, edgecolor='b') for agent in self.agents]\n",
      "\\\\csce.datastore.ed.ac.uk\\csce\\eng\\users\\s2013568\\Win7\\Desktop\\DEM\\DEM_test\\Ageng_based_simulation\\Force_based_model\\main.py:86: UserWarning: Setting the 'color' property will override the edgecolor or facecolor properties.\n",
      "  new_agent_circles = [plt.Circle(agent.position, agent.radius, color='b', fill=False, edgecolor='b') for agent in self.agents]\n"
     ]
    },
    {
     "ename": "ValueError",
     "evalue": "unknown file extension: .gifs",
     "output_type": "error",
     "traceback": [
      "\u001b[1;31m---------------------------------------------------------------------------\u001b[0m",
      "\u001b[1;31mKeyError\u001b[0m                                  Traceback (most recent call last)",
      "File \u001b[1;32m~\\AppData\\Local\\Packages\\PythonSoftwareFoundation.Python.3.8_qbz5n2kfra8p0\\LocalCache\\local-packages\\Python38\\site-packages\\PIL\\Image.py:2543\u001b[0m, in \u001b[0;36mImage.save\u001b[1;34m(self, fp, format, **params)\u001b[0m\n\u001b[0;32m   2542\u001b[0m \u001b[38;5;28;01mtry\u001b[39;00m:\n\u001b[1;32m-> 2543\u001b[0m     \u001b[38;5;28mformat\u001b[39m \u001b[38;5;241m=\u001b[39m \u001b[43mEXTENSION\u001b[49m\u001b[43m[\u001b[49m\u001b[43mext\u001b[49m\u001b[43m]\u001b[49m\n\u001b[0;32m   2544\u001b[0m \u001b[38;5;28;01mexcept\u001b[39;00m \u001b[38;5;167;01mKeyError\u001b[39;00m \u001b[38;5;28;01mas\u001b[39;00m e:\n",
      "\u001b[1;31mKeyError\u001b[0m: '.gifs'",
      "\nThe above exception was the direct cause of the following exception:\n",
      "\u001b[1;31mValueError\u001b[0m                                Traceback (most recent call last)",
      "Cell \u001b[1;32mIn[2], line 17\u001b[0m\n\u001b[0;32m     14\u001b[0m gcf_model \u001b[38;5;241m=\u001b[39m GCFModel(environment\u001b[38;5;241m=\u001b[39menv, agents\u001b[38;5;241m=\u001b[39magents, time_constant\u001b[38;5;241m=\u001b[39m\u001b[38;5;241m1\u001b[39m)\n\u001b[0;32m     16\u001b[0m \u001b[38;5;66;03m# Animate the model\u001b[39;00m\n\u001b[1;32m---> 17\u001b[0m \u001b[43mgcf_model\u001b[49m\u001b[38;5;241;43m.\u001b[39;49m\u001b[43manimate\u001b[49m\u001b[43m(\u001b[49m\u001b[43msteps\u001b[49m\u001b[38;5;241;43m=\u001b[39;49m\u001b[38;5;241;43m1000\u001b[39;49m\u001b[43m,\u001b[49m\u001b[43m \u001b[49m\u001b[43mdt\u001b[49m\u001b[38;5;241;43m=\u001b[39;49m\u001b[38;5;241;43m0.01\u001b[39;49m\u001b[43m,\u001b[49m\u001b[43m \u001b[49m\u001b[43minterval\u001b[49m\u001b[38;5;241;43m=\u001b[39;49m\u001b[38;5;241;43m100\u001b[39;49m\u001b[43m,\u001b[49m\u001b[43m \u001b[49m\u001b[43moutput_filename\u001b[49m\u001b[38;5;241;43m=\u001b[39;49m\u001b[38;5;124;43m\"\u001b[39;49m\u001b[38;5;124;43mcrowd_simulation_social_force.gifs\u001b[39;49m\u001b[38;5;124;43m\"\u001b[39;49m\u001b[43m,\u001b[49m\u001b[43m \u001b[49m\u001b[43mshow_forces\u001b[49m\u001b[38;5;241;43m=\u001b[39;49m\u001b[38;5;28;43;01mTrue\u001b[39;49;00m\u001b[43m)\u001b[49m\n",
      "File \u001b[1;32m\\\\csce.datastore.ed.ac.uk\\csce\\eng\\users\\s2013568\\Win7\\Desktop\\DEM\\DEM_test\\Ageng_based_simulation\\Force_based_model\\main.py:122\u001b[0m, in \u001b[0;36mGCFModel.animate\u001b[1;34m(self, steps, dt, interval, output_filename, show_forces)\u001b[0m\n\u001b[0;32m    118\u001b[0m anim \u001b[38;5;241m=\u001b[39m FuncAnimation(fig, update_animation, frames\u001b[38;5;241m=\u001b[39msteps,\n\u001b[0;32m    119\u001b[0m                     init_func\u001b[38;5;241m=\u001b[39minit, blit\u001b[38;5;241m=\u001b[39m\u001b[38;5;28;01mTrue\u001b[39;00m, interval\u001b[38;5;241m=\u001b[39minterval)\n\u001b[0;32m    121\u001b[0m \u001b[38;5;66;03m# Save the animation as a GIF at 10 frames per second\u001b[39;00m\n\u001b[1;32m--> 122\u001b[0m \u001b[43manim\u001b[49m\u001b[38;5;241;43m.\u001b[39;49m\u001b[43msave\u001b[49m\u001b[43m(\u001b[49m\u001b[43moutput_filename\u001b[49m\u001b[43m,\u001b[49m\u001b[43m \u001b[49m\u001b[43mwriter\u001b[49m\u001b[38;5;241;43m=\u001b[39;49m\u001b[38;5;124;43m'\u001b[39;49m\u001b[38;5;124;43mpillow\u001b[39;49m\u001b[38;5;124;43m'\u001b[39;49m\u001b[43m,\u001b[49m\u001b[43m \u001b[49m\u001b[43mfps\u001b[49m\u001b[38;5;241;43m=\u001b[39;49m\u001b[38;5;241;43m10000\u001b[39;49m\u001b[43m)\u001b[49m\n\u001b[0;32m    125\u001b[0m plt\u001b[38;5;241m.\u001b[39mshow()\n",
      "File \u001b[1;32m~\\AppData\\Local\\Packages\\PythonSoftwareFoundation.Python.3.8_qbz5n2kfra8p0\\LocalCache\\local-packages\\Python38\\site-packages\\matplotlib\\animation.py:1107\u001b[0m, in \u001b[0;36mAnimation.save\u001b[1;34m(self, filename, writer, fps, dpi, codec, bitrate, extra_args, metadata, extra_anim, savefig_kwargs, progress_callback)\u001b[0m\n\u001b[0;32m   1105\u001b[0m         progress_callback(frame_number, total_frames)\n\u001b[0;32m   1106\u001b[0m         frame_number \u001b[38;5;241m+\u001b[39m\u001b[38;5;241m=\u001b[39m \u001b[38;5;241m1\u001b[39m\n\u001b[1;32m-> 1107\u001b[0m writer\u001b[38;5;241m.\u001b[39mgrab_frame(\u001b[38;5;241m*\u001b[39m\u001b[38;5;241m*\u001b[39msavefig_kwargs)\n",
      "File \u001b[1;32mC:\\Program Files\\WindowsApps\\PythonSoftwareFoundation.Python.3.8_3.8.2800.0_x64__qbz5n2kfra8p0\\lib\\contextlib.py:120\u001b[0m, in \u001b[0;36m_GeneratorContextManager.__exit__\u001b[1;34m(self, type, value, traceback)\u001b[0m\n\u001b[0;32m    118\u001b[0m \u001b[38;5;28;01mif\u001b[39;00m \u001b[38;5;28mtype\u001b[39m \u001b[38;5;129;01mis\u001b[39;00m \u001b[38;5;28;01mNone\u001b[39;00m:\n\u001b[0;32m    119\u001b[0m     \u001b[38;5;28;01mtry\u001b[39;00m:\n\u001b[1;32m--> 120\u001b[0m         \u001b[38;5;28;43mnext\u001b[39;49m\u001b[43m(\u001b[49m\u001b[38;5;28;43mself\u001b[39;49m\u001b[38;5;241;43m.\u001b[39;49m\u001b[43mgen\u001b[49m\u001b[43m)\u001b[49m\n\u001b[0;32m    121\u001b[0m     \u001b[38;5;28;01mexcept\u001b[39;00m \u001b[38;5;167;01mStopIteration\u001b[39;00m:\n\u001b[0;32m    122\u001b[0m         \u001b[38;5;28;01mreturn\u001b[39;00m \u001b[38;5;28;01mFalse\u001b[39;00m\n",
      "File \u001b[1;32m~\\AppData\\Local\\Packages\\PythonSoftwareFoundation.Python.3.8_qbz5n2kfra8p0\\LocalCache\\local-packages\\Python38\\site-packages\\matplotlib\\animation.py:235\u001b[0m, in \u001b[0;36mAbstractMovieWriter.saving\u001b[1;34m(self, fig, outfile, dpi, *args, **kwargs)\u001b[0m\n\u001b[0;32m    233\u001b[0m     \u001b[38;5;28;01myield\u001b[39;00m \u001b[38;5;28mself\u001b[39m\n\u001b[0;32m    234\u001b[0m \u001b[38;5;28;01mfinally\u001b[39;00m:\n\u001b[1;32m--> 235\u001b[0m     \u001b[38;5;28;43mself\u001b[39;49m\u001b[38;5;241;43m.\u001b[39;49m\u001b[43mfinish\u001b[49m\u001b[43m(\u001b[49m\u001b[43m)\u001b[49m\n",
      "File \u001b[1;32m~\\AppData\\Local\\Packages\\PythonSoftwareFoundation.Python.3.8_qbz5n2kfra8p0\\LocalCache\\local-packages\\Python38\\site-packages\\matplotlib\\animation.py:501\u001b[0m, in \u001b[0;36mPillowWriter.finish\u001b[1;34m(self)\u001b[0m\n\u001b[0;32m    500\u001b[0m \u001b[38;5;28;01mdef\u001b[39;00m \u001b[38;5;21mfinish\u001b[39m(\u001b[38;5;28mself\u001b[39m):\n\u001b[1;32m--> 501\u001b[0m     \u001b[38;5;28;43mself\u001b[39;49m\u001b[38;5;241;43m.\u001b[39;49m\u001b[43m_frames\u001b[49m\u001b[43m[\u001b[49m\u001b[38;5;241;43m0\u001b[39;49m\u001b[43m]\u001b[49m\u001b[38;5;241;43m.\u001b[39;49m\u001b[43msave\u001b[49m\u001b[43m(\u001b[49m\n\u001b[0;32m    502\u001b[0m \u001b[43m        \u001b[49m\u001b[38;5;28;43mself\u001b[39;49m\u001b[38;5;241;43m.\u001b[39;49m\u001b[43moutfile\u001b[49m\u001b[43m,\u001b[49m\u001b[43m \u001b[49m\u001b[43msave_all\u001b[49m\u001b[38;5;241;43m=\u001b[39;49m\u001b[38;5;28;43;01mTrue\u001b[39;49;00m\u001b[43m,\u001b[49m\u001b[43m \u001b[49m\u001b[43mappend_images\u001b[49m\u001b[38;5;241;43m=\u001b[39;49m\u001b[38;5;28;43mself\u001b[39;49m\u001b[38;5;241;43m.\u001b[39;49m\u001b[43m_frames\u001b[49m\u001b[43m[\u001b[49m\u001b[38;5;241;43m1\u001b[39;49m\u001b[43m:\u001b[49m\u001b[43m]\u001b[49m\u001b[43m,\u001b[49m\n\u001b[0;32m    503\u001b[0m \u001b[43m        \u001b[49m\u001b[43mduration\u001b[49m\u001b[38;5;241;43m=\u001b[39;49m\u001b[38;5;28;43mint\u001b[39;49m\u001b[43m(\u001b[49m\u001b[38;5;241;43m1000\u001b[39;49m\u001b[43m \u001b[49m\u001b[38;5;241;43m/\u001b[39;49m\u001b[43m \u001b[49m\u001b[38;5;28;43mself\u001b[39;49m\u001b[38;5;241;43m.\u001b[39;49m\u001b[43mfps\u001b[49m\u001b[43m)\u001b[49m\u001b[43m,\u001b[49m\u001b[43m \u001b[49m\u001b[43mloop\u001b[49m\u001b[38;5;241;43m=\u001b[39;49m\u001b[38;5;241;43m0\u001b[39;49m\u001b[43m)\u001b[49m\n",
      "File \u001b[1;32m~\\AppData\\Local\\Packages\\PythonSoftwareFoundation.Python.3.8_qbz5n2kfra8p0\\LocalCache\\local-packages\\Python38\\site-packages\\PIL\\Image.py:2546\u001b[0m, in \u001b[0;36mImage.save\u001b[1;34m(self, fp, format, **params)\u001b[0m\n\u001b[0;32m   2544\u001b[0m     \u001b[38;5;28;01mexcept\u001b[39;00m \u001b[38;5;167;01mKeyError\u001b[39;00m \u001b[38;5;28;01mas\u001b[39;00m e:\n\u001b[0;32m   2545\u001b[0m         msg \u001b[38;5;241m=\u001b[39m \u001b[38;5;124mf\u001b[39m\u001b[38;5;124m\"\u001b[39m\u001b[38;5;124munknown file extension: \u001b[39m\u001b[38;5;132;01m{\u001b[39;00mext\u001b[38;5;132;01m}\u001b[39;00m\u001b[38;5;124m\"\u001b[39m\n\u001b[1;32m-> 2546\u001b[0m         \u001b[38;5;28;01mraise\u001b[39;00m \u001b[38;5;167;01mValueError\u001b[39;00m(msg) \u001b[38;5;28;01mfrom\u001b[39;00m \u001b[38;5;21;01me\u001b[39;00m\n\u001b[0;32m   2548\u001b[0m \u001b[38;5;28;01mif\u001b[39;00m \u001b[38;5;28mformat\u001b[39m\u001b[38;5;241m.\u001b[39mupper() \u001b[38;5;129;01mnot\u001b[39;00m \u001b[38;5;129;01min\u001b[39;00m SAVE:\n\u001b[0;32m   2549\u001b[0m     init()\n",
      "\u001b[1;31mValueError\u001b[0m: unknown file extension: .gifs"
     ]
    },
    {
     "data": {
      "image/png": "[encoded data removed]",
      "text/plain": [
       "<Figure size 640x480 with 1 Axes>"
      ]
     },
     "metadata": {},
     "output_type": "display_data"
    }
   ],
   "source": [
    "env = Environment(width=20, height=10, bottleneck_width=2, bottleneck_height=2)\n",
    "\n",
    "# Generate agents to fill from x=0.5 to x=3.5 and y=1 to y=9\n",
    "num_agents = 10  # Define the number of agents\n",
    "x_positions = [0.5, 1.5, 2.5, 3.5]  # Positions along the x-axis\n",
    "y_positions = [1.0, 2.0, 3.0, 4.0, 5.0, 6.0, 7.0, 8.0, 9.0]  # Positions along the y-axis\n",
    "\n",
    "agents = []\n",
    "for y in y_positions:\n",
    "    for x in x_positions:\n",
    "        agents.append(Agent(position=[x, y], velocity=[0.0, 0.0], radius=0.1))\n",
    "\n",
    "# Initialize the GCF model\n",
    "gcf_model = GCFModel(environment=env, agents=agents, time_constant=1)\n",
    "\n",
    "# Animate the model\n",
    "gcf_model.animate(steps=1000, dt=0.01, interval=100, output_filename=\"crowd_simulation_social_force.gifs\", show_forces=True)"
   ]
  },
  {
   "cell_type": "code",
   "execution_count": 5,
   "metadata": {},
   "outputs": [
    {
     "data": {
      "text/plain": [
       "array([11.3137085, 11.3137085])"
      ]
     },
     "execution_count": 5,
     "metadata": {},
     "output_type": "execute_result"
    }
   ],
   "source": [
    "import numpy as np\n",
    "import misc\n",
    "misc.normalize(np.array((1, 1))) * 16"
   ]
  },
  {
   "cell_type": "code",
   "execution_count": 1,
   "metadata": {},
   "outputs": [
    {
     "name": "stdout",
     "output_type": "stream",
     "text": [
      "Collecting ffmpeg-python\n",
      "  Downloading ffmpeg_python-0.2.0-py3-none-any.whl (25 kB)\n",
      "Collecting future\n",
      "  Downloading future-1.0.0-py3-none-any.whl (491 kB)\n",
      "Installing collected packages: future, ffmpeg-python\n",
      "Successfully installed ffmpeg-python-0.2.0 future-1.0.0\n",
      "Note: you may need to restart the kernel to use updated packages.\n"
     ]
    },
    {
     "name": "stderr",
     "output_type": "stream",
     "text": [
      "WARNING: You are using pip version 21.1.1; however, version 24.2 is available.\n",
      "You should consider upgrading via the 'C:\\Users\\s2013568\\AppData\\Local\\Microsoft\\WindowsApps\\PythonSoftwareFoundation.Python.3.8_qbz5n2kfra8p0\\python.exe -m pip install --upgrade pip' command.\n"
     ]
    }
   ],
   "source": [
    "pip install ffmpeg-python"
   ]
  },
  {
   "cell_type": "code",
   "execution_count": 3,
   "metadata": {},
   "outputs": [
    {
     "data": {
      "text/plain": [
       "array([1, 1])"
      ]
     },
     "execution_count": 3,
     "metadata": {},
     "output_type": "execute_result"
    }
   ],
   "source": [
    "import numpy as np\n",
    "np.array((1, 1))"
   ]
  },
  {
   "cell_type": "code",
   "execution_count": 3,
   "metadata": {},
   "outputs": [
    {
     "name": "stdout",
     "output_type": "stream",
     "text": [
      "Requirement already satisfied: pillow in c:\\users\\peter\\appdata\\local\\programs\\python\\python312\\lib\\site-packages (10.3.0)\n",
      "Collecting pillow\n",
      "  Downloading pillow-10.4.0-cp312-cp312-win_amd64.whl.metadata (9.3 kB)\n",
      "Downloading pillow-10.4.0-cp312-cp312-win_amd64.whl (2.6 MB)\n",
      "   ---------------------------------------- 0.0/2.6 MB ? eta -:--:--\n",
      "   -- ------------------------------------- 0.1/2.6 MB 4.3 MB/s eta 0:00:01\n",
      "   --------------- ------------------------ 1.0/2.6 MB 12.5 MB/s eta 0:00:01\n",
      "   --------------------------------- ------ 2.2/2.6 MB 19.8 MB/s eta 0:00:01\n",
      "   ---------------------------------------- 2.6/2.6 MB 16.3 MB/s eta 0:00:00\n",
      "Installing collected packages: pillow\n",
      "  Attempting uninstall: pillow\n",
      "    Found existing installation: pillow 10.3.0\n",
      "    Uninstalling pillow-10.3.0:\n",
      "      Successfully uninstalled pillow-10.3.0\n",
      "Successfully installed pillow-10.4.0\n",
      "Note: you may need to restart the kernel to use updated packages.\n"
     ]
    },
    {
     "name": "stderr",
     "output_type": "stream",
     "text": [
      "  WARNING: Failed to remove contents in a temporary directory 'C:\\Users\\Peter\\AppData\\Local\\Programs\\Python\\Python312\\Lib\\site-packages\\~il'.\n",
      "  You can safely remove it manually.\n",
      "\n",
      "[notice] A new release of pip is available: 24.1.2 -> 24.2\n",
      "[notice] To update, run: python.exe -m pip install --upgrade pip\n"
     ]
    }
   ],
   "source": [
    "pip install --upgrade pillow\n"
   ]
  }
 ],
 "metadata": {
  "kernelspec": {
   "display_name": "Python 3",
   "language": "python",
   "name": "python3"
  },
  "language_info": {
   "codemirror_mode": {
    "name": "ipython",
    "version": 3
   },
   "file_extension": ".py",
   "mimetype": "text/x-python",
   "name": "python",
   "nbconvert_exporter": "python",
   "pygments_lexer": "ipython3",
   "version": "3.8.10"
  }
 },
 "nbformat": 4,
 "nbformat_minor": 2
}
