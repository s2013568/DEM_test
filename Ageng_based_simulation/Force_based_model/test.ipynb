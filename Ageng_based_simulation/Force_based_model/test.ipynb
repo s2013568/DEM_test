{
 "cells": [
  {
   "cell_type": "code",
   "execution_count": 1,
   "metadata": {},
   "outputs": [],
   "source": [
    "from environment import Environment\n",
    "from agent import Agent\n",
    "from main import GCFModel"
   ]
  },
  {
   "cell_type": "code",
   "execution_count": 2,
   "metadata": {},
   "outputs": [
    {
     "name": "stderr",
     "output_type": "stream",
     "text": [
      "c:\\Users\\Peter\\OneDrive - University of Edinburgh\\Desktop\\PHD\\github\\DEM_test\\Ageng_based_simulation\\Force_based_model\\main.py:57: UserWarning: Setting the 'color' property will override the edgecolor or facecolor properties.\n",
      "  agent_circles = [plt.Circle(agent.position, agent.radius, color='b', fill=False, edgecolor='b') for agent in self.agents]\n",
      "c:\\Users\\Peter\\OneDrive - University of Edinburgh\\Desktop\\PHD\\github\\DEM_test\\Ageng_based_simulation\\Force_based_model\\main.py:86: UserWarning: Setting the 'color' property will override the edgecolor or facecolor properties.\n",
      "  new_agent_circles = [plt.Circle(agent.position, agent.radius, color='b', fill=False, edgecolor='b') for agent in self.agents]\n"
     ]
    },
    {
     "name": "stdout",
     "output_type": "stream",
     "text": [
      "repulsion force:[0. 0.]\n",
      "repulsion force:[0. 0.]\n",
      "repulsion force:[0. 0.]\n",
      "repulsion force:[-2.97796934e-05 -6.22720709e-02]\n",
      "repulsion force:[1.29578654e-05 8.21100016e-02]\n",
      "repulsion force:[ 0.         -0.03870939]\n",
      "repulsion force:[-0.00016057 -0.13354454]\n",
      "repulsion force:[6.92117918e-05 1.74048944e-01]\n",
      "repulsion force:[-1.82953044e-09 -8.33496933e-02]\n",
      "repulsion force:[-0.00035089 -0.17065979]\n",
      "repulsion force:[1.49479041e-04 2.19159859e-01]\n",
      "repulsion force:[-1.09499026e-09 -1.07090397e-01]\n",
      "repulsion force:[-0.00055914 -0.18721945]\n",
      "repulsion force:[2.35781238e-04 2.37566579e-01]\n",
      "repulsion force:[ 3.02365528e-08 -1.17925593e-01]\n",
      "repulsion force:[-0.00077469 -0.19514535]\n",
      "repulsion force:[0.00032406 0.2455466 ]\n",
      "repulsion force:[ 1.33871536e-07 -1.23147695e-01]\n",
      "repulsion force:[-0.00099805 -0.19983151]\n",
      "repulsion force:[0.00041479 0.2499787 ]\n",
      "repulsion force:[ 3.51743015e-07 -1.26169752e-01]\n",
      "repulsion force:[-0.00123129 -0.2033708 ]\n",
      "repulsion force:[0.00050887 0.25331782]\n",
      "repulsion force:[ 7.21454490e-07 -1.28367833e-01]\n",
      "repulsion force:[-0.00147607 -0.20654011]\n",
      "repulsion force:[0.00060691 0.25638062]\n",
      "repulsion force:[ 1.27626100e-06 -1.30275536e-01]\n",
      "repulsion force:[-0.00173356 -0.20962513]\n",
      "repulsion force:[0.0007093  0.25942488]\n",
      "repulsion force:[ 2.04640999e-06 -1.32099042e-01]\n",
      "repulsion force:[-0.00200466 -0.21273188]\n",
      "repulsion force:[0.00081628 0.26252702]\n",
      "repulsion force:[ 3.06068107e-06 -1.33919079e-01]\n",
      "repulsion force:[-0.00229017 -0.21590099]\n",
      "repulsion force:[0.00092811 0.26570792]\n",
      "repulsion force:[ 4.34774078e-06 -1.35768279e-01]\n",
      "repulsion force:[-0.00259091 -0.21914943]\n",
      "repulsion force:[0.001045   0.26897309]\n",
      "repulsion force:[ 5.93722089e-06 -1.37660736e-01]\n",
      "repulsion force:[-0.00290769 -0.22248563]\n",
      "repulsion force:[0.00116721 0.27232474]\n",
      "repulsion force:[ 7.86054933e-06 -1.39603389e-01]\n",
      "repulsion force:[-0.00324138 -0.22591503]\n",
      "repulsion force:[0.00129502 0.27576497]\n",
      "repulsion force:[ 1.01516028e-05 -1.41600433e-01]\n",
      "repulsion force:[-0.00359293 -0.22944212]\n",
      "repulsion force:[0.00142871 0.2792964 ]\n",
      "repulsion force:[ 1.28472508e-05 -1.43655060e-01]\n",
      "repulsion force:[-0.00396328 -0.23307115]\n",
      "repulsion force:[0.00156861 0.28292222]\n",
      "repulsion force:[ 1.59878467e-05 -1.45770157e-01]\n",
      "repulsion force:[-0.0043535  -0.23680646]\n",
      "repulsion force:[0.00171503 0.28664601]\n",
      "repulsion force:[ 1.96177082e-05 -1.47948584e-01]\n",
      "repulsion force:[-0.00476465 -0.2406526 ]\n",
      "repulsion force:[0.00186835 0.29047173]\n",
      "repulsion force:[ 2.37856148e-05 -1.50193297e-01]\n",
      "repulsion force:[-0.0051979  -0.24461433]\n",
      "repulsion force:[0.00202894 0.29440364]\n",
      "repulsion force:[ 2.85453447e-05 -1.52507409e-01]\n",
      "repulsion force:[-0.00565448 -0.2486967 ]\n",
      "repulsion force:[0.00219721 0.29844629]\n",
      "repulsion force:[ 3.39562671e-05 -1.54894218e-01]\n",
      "repulsion force:[-0.00613567 -0.25290509]\n",
      "repulsion force:[0.00237358 0.3026045 ]\n",
      "repulsion force:[ 4.00840046e-05 -1.57357231e-01]\n",
      "repulsion force:[-0.00664283 -0.25724518]\n",
      "repulsion force:[0.00255853 0.30688343]\n",
      "repulsion force:[ 4.70011788e-05 -1.59900184e-01]\n",
      "repulsion force:[-0.00717742 -0.26172302]\n",
      "repulsion force:[0.00275253 0.31128853]\n",
      "repulsion force:[ 5.47882556e-05 -1.62527063e-01]\n",
      "repulsion force:[-0.00774097 -0.26634508]\n",
      "repulsion force:[0.00295612 0.31582563]\n",
      "repulsion force:[ 6.35345032e-05 -1.65242126e-01]\n",
      "repulsion force:[-0.00833508 -0.27111823]\n",
      "repulsion force:[0.00316984 0.32050091]\n",
      "repulsion force:[ 7.33390852e-05 -1.68049925e-01]\n",
      "repulsion force:[-0.00896147 -0.27604983]\n",
      "repulsion force:[0.0033943  0.32532094]\n",
      "repulsion force:[ 8.43123063e-05 -1.70955333e-01]\n",
      "repulsion force:[-0.00962197 -0.28114774]\n",
      "repulsion force:[0.00363012 0.33029277]\n",
      "repulsion force:[ 9.65770387e-05 -1.73963575e-01]\n",
      "repulsion force:[-0.01031849 -0.28642042]\n",
      "repulsion force:[0.00387799 0.33542389]\n",
      "repulsion force:[ 1.10270357e-04 -1.77080256e-01]\n",
      "repulsion force:[-0.01105308 -0.29187693]\n",
      "repulsion force:[0.00413861 0.34072231]\n",
      "repulsion force:[ 1.25545417e-04 -1.80311399e-01]\n",
      "repulsion force:[-0.01182792 -0.29752703]\n",
      "repulsion force:[0.00441277 0.34619661]\n",
      "repulsion force:[ 1.42573622e-04 -1.83663485e-01]\n",
      "repulsion force:[-0.01264533 -0.30338125]\n",
      "repulsion force:[0.00470128 0.35185599]\n",
      "repulsion force:[ 1.61547122e-04 -1.87143500e-01]\n",
      "repulsion force:[-0.01350778 -0.30945098]\n",
      "repulsion force:[0.005005   0.35771031]\n",
      "repulsion force:[ 1.82681709e-04 -1.90758977e-01]\n",
      "repulsion force:[-0.01441794 -0.31574855]\n",
      "repulsion force:[0.00532487 0.36377016]\n",
      "repulsion force:[ 0.00020622 -0.19451806]\n",
      "repulsion force:[-0.01537864 -0.32228737]\n",
      "repulsion force:[0.00566188 0.37004696]\n",
      "repulsion force:[ 0.00023244 -0.19842957]\n",
      "repulsion force:[-0.01639296 -0.32908202]\n",
      "repulsion force:[0.00601706 0.37655301]\n",
      "repulsion force:[ 0.00026164 -0.20250305]\n",
      "repulsion force:[-0.01746423 -0.33614841]\n",
      "repulsion force:[0.00639153 0.38330158]\n",
      "repulsion force:[ 0.00029418 -0.20674889]\n",
      "repulsion force:[-0.01859607 -0.34350397]\n",
      "repulsion force:[0.00678647 0.39030704]\n",
      "repulsion force:[ 0.00033045 -0.21117837]\n",
      "repulsion force:[-0.01979244 -0.3511678 ]\n",
      "repulsion force:[0.00720312 0.39758496]\n",
      "repulsion force:[ 0.00037091 -0.21580379]\n",
      "repulsion force:[-0.02105769 -0.35916091]\n",
      "repulsion force:[0.00764277 0.40515223]\n",
      "repulsion force:[ 0.00041607 -0.2206386 ]\n",
      "repulsion force:[-0.02239667 -0.36750647]\n",
      "repulsion force:[0.0081068  0.41302726]\n",
      "repulsion force:[ 0.00046652 -0.22569749]\n",
      "repulsion force:[-0.02381478 -0.37623011]\n",
      "repulsion force:[0.00859663 0.42123009]\n",
      "repulsion force:[ 0.00052294 -0.23099657]\n",
      "repulsion force:[-0.0253181  -0.38536023]\n",
      "repulsion force:[0.00911373 0.42978267]\n",
      "repulsion force:[ 0.0005861  -0.23655354]\n",
      "repulsion force:[-0.02691354 -0.39492839]\n",
      "repulsion force:[0.0096596  0.43870902]\n",
      "repulsion force:[ 0.00065689 -0.24238792]\n",
      "repulsion force:[-0.028609   -0.40496977]\n",
      "repulsion force:[0.01023578 0.44803555]\n",
      "repulsion force:[ 0.00073636 -0.24852122]\n",
      "repulsion force:[-0.03041362 -0.41552364]\n",
      "repulsion force:[0.01084378 0.45779138]\n",
      "repulsion force:[ 0.0008257  -0.25497725]\n",
      "repulsion force:[-0.03233802 -0.426634  ]\n",
      "repulsion force:[0.01148508 0.46800871]\n",
      "repulsion force:[ 0.00092632 -0.26178244]\n",
      "repulsion force:[-0.03439469 -0.43835024]\n",
      "repulsion force:[0.01216106 0.47872324]\n",
      "repulsion force:[ 0.00103986 -0.26896618]\n",
      "repulsion force:[-0.03659837 -0.45072787]\n",
      "repulsion force:[0.01287294 0.48997477]\n",
      "repulsion force:[ 0.00116824 -0.27656124]\n",
      "repulsion force:[-0.03896663 -0.46382951]\n",
      "repulsion force:[0.01362168 0.50180776]\n",
      "repulsion force:[ 0.00131375 -0.28460432]\n",
      "repulsion force:[-0.04152055 -0.47772585]\n",
      "repulsion force:[0.01440788 0.51427219]\n",
      "repulsion force:[ 0.00147906 -0.29313657]\n",
      "repulsion force:[-0.04428552 -0.49249692]\n",
      "repulsion force:[0.01523156 0.52742443]\n",
      "repulsion force:[ 0.00166741 -0.30220433]\n",
      "repulsion force:[-0.04729231 -0.5082334 ]\n",
      "repulsion force:[0.01609199 0.54132845]\n",
      "repulsion force:[ 0.00188262 -0.31185995]\n",
      "repulsion force:[-0.05057841 -0.52503826]\n",
      "repulsion force:[0.01698731 0.55605723]\n",
      "repulsion force:[ 0.00212933 -0.32216277]\n",
      "repulsion force:[-0.05418965 -0.54302855]\n",
      "repulsion force:[0.01791419 0.57169458]\n",
      "repulsion force:[ 0.00241316 -0.3331803 ]\n",
      "repulsion force:[-0.05818228 -0.56233753]\n",
      "repulsion force:[0.01886717 0.58833737]\n",
      "repulsion force:[ 0.00274095 -0.34498963]\n",
      "repulsion force:[-0.06262556 -0.58311706]\n",
      "repulsion force:[0.01983792 0.60609849]\n",
      "repulsion force:[ 0.00312109 -0.35767913]\n",
      "repulsion force:[-0.06760505 -0.60554032]\n",
      "repulsion force:[0.02081417 0.62511051]\n",
      "repulsion force:[ 0.003564   -0.37135053]\n",
      "repulsion force:[-0.07322674 -0.62980497]\n",
      "repulsion force:[0.02177815 0.64553059]\n",
      "repulsion force:[ 0.00408265 -0.3861214 ]\n",
      "repulsion force:[-0.07962229 -0.65613668]\n",
      "repulsion force:[0.02270458 0.66754689]\n",
      "repulsion force:[ 0.00469335 -0.4021282 ]\n",
      "repulsion force:[-0.08695577 -0.684793  ]\n",
      "repulsion force:[0.02355769 0.6913872 ]\n",
      "repulsion force:[ 0.00541683 -0.41952995]\n",
      "repulsion force:[-0.09543218 -0.71606774]\n",
      "repulsion force:[0.02428709 0.71733055]\n",
      "repulsion force:[ 0.00627967 -0.4385127 ]\n",
      "repulsion force:[-0.1053085  -0.75029553]\n",
      "repulsion force:[0.02482183 0.74572329]\n",
      "repulsion force:[ 0.00731636 -0.45929503]\n",
      "repulsion force:[-0.11690791 -0.78785643]\n",
      "repulsion force:[0.02506184 0.77700154]\n",
      "repulsion force:[ 0.00857215 -0.48213445]\n",
      "repulsion force:[-0.13063821 -0.82918019]\n",
      "repulsion force:[0.0248653  0.81172302]\n",
      "repulsion force:[ 0.01010721 -0.50733517]\n",
      "repulsion force:[-0.14701582 -0.87474926]\n",
      "repulsion force:[0.02402994 0.85061317]\n",
      "repulsion force:[ 0.01200264 -0.53525687]\n",
      "repulsion force:[-0.16645063 -0.92481438]\n",
      "repulsion force:[0.02226474 0.8946329 ]\n",
      "repulsion force:[ 0.01436947 -0.56632415]\n",
      "repulsion force:[-0.18927142 -0.97951828]\n",
      "repulsion force:[0.01914998 0.9451003 ]\n",
      "repulsion force:[ 0.01736212 -0.60103537]\n",
      "repulsion force:[-0.2162274  -1.03944225]\n",
      "repulsion force:[0.01406981 1.00383653]\n",
      "repulsion force:[ 0.02119911 -0.63996431]\n",
      "repulsion force:[-0.24822181 -1.10504516]\n",
      "repulsion force:[0.00609582 1.07336853]\n",
      "repulsion force:[ 0.02619538 -0.68375465]\n",
      "repulsion force:[-0.2863524  -1.17669104]\n",
      "repulsion force:[-0.00619249  1.15734939]\n",
      "repulsion force:[ 0.03281418 -0.73309507]\n",
      "repulsion force:[-0.33193388 -1.25457013]\n",
      "repulsion force:[-0.02502494  1.26116542]\n",
      "repulsion force:[ 0.04174992 -0.78862102]\n",
      "repulsion force:[-0.38649788 -1.33858069]\n",
      "repulsion force:[-0.05401663  1.39294255]\n",
      "repulsion force:[ 0.05406221 -0.85068405]\n",
      "repulsion force:[-0.45174594 -1.42819263]\n",
      "repulsion force:[-0.09927507  1.56519528]\n",
      "repulsion force:[ 0.07138792 -0.91880799]\n",
      "repulsion force:[-0.52942831 -1.52239678]\n",
      "repulsion force:[-0.17167051  1.79747747]\n",
      "repulsion force:[ 0.09624912 -0.99042726]\n",
      "repulsion force:[-0.62115819 -1.6200764 ]\n",
      "repulsion force:[-0.27180652  2.1724608 ]\n",
      "repulsion force:[ 0.132367   -1.05796625]\n",
      "repulsion force:[-0.71655825 -1.69394649]\n",
      "repulsion force:[-0.43961399  2.63707422]\n",
      "repulsion force:[ 0.18186496 -1.09093751]\n",
      "repulsion force:[-0.83702668 -1.79916348]\n",
      "repulsion force:[-0.76963944  3.31161865]\n",
      "repulsion force:[-0.97620651 -1.93282133]\n",
      "repulsion force:[-0.14007412  2.70780739]\n",
      "repulsion force:[-1.48160495 -2.64169723]\n",
      "repulsion force:[-1.12941441 -2.38576465]\n",
      "repulsion force:[-1.09243692 -2.87634816]\n",
      "repulsion force:[-0.82337846 -2.97401707]\n",
      "repulsion force:[-0.5281584  -3.25833428]\n"
     ]
    },
    {
     "data": {
      "image/png": "[encoded data removed]",
      "text/plain": [
       "<Figure size 640x480 with 1 Axes>"
      ]
     },
     "metadata": {},
     "output_type": "display_data"
    }
   ],
   "source": [
    "env = Environment(width=20, height=10, bottleneck_width=2, bottleneck_height=2)\n",
    "agents = [\n",
    "    Agent(position=[0.5, 1.0], velocity=[0.0, 0.0], radius=0.1),\n",
    "    Agent(position=[0.5, 8.0], velocity=[0.0, 0.0], radius=0.1),\n",
    "    Agent(position=[0.5, 2.0], velocity=[0.0, 0.0], radius=0.1)\n",
    "]\n",
    "\n",
    "\n",
    "gcf_model = GCFModel(environment=env, agents=agents, time_constant = 0.2)\n",
    "gcf_model.animate(steps=100, dt=0.1, interval=100, output_filename=\"crowd_simulation_social_force.gif\", show_forces = True)"
   ]
  },
  {
   "cell_type": "code",
   "execution_count": 2,
   "metadata": {},
   "outputs": [
    {
     "name": "stderr",
     "output_type": "stream",
     "text": [
      "c:\\Users\\Peter\\OneDrive - University of Edinburgh\\Desktop\\PHD\\github\\DEM_test\\Ageng_based_simulation\\Force_based_model\\main.py:57: UserWarning: Setting the 'color' property will override the edgecolor or facecolor properties.\n",
      "  agent_circles = [plt.Circle(agent.position, agent.radius, color='b', fill=False, edgecolor='b') for agent in self.agents]\n",
      "c:\\Users\\Peter\\OneDrive - University of Edinburgh\\Desktop\\PHD\\github\\DEM_test\\Ageng_based_simulation\\Force_based_model\\main.py:86: UserWarning: Setting the 'color' property will override the edgecolor or facecolor properties.\n",
      "  new_agent_circles = [plt.Circle(agent.position, agent.radius, color='b', fill=False, edgecolor='b') for agent in self.agents]\n"
     ]
    },
    {
     "data": {
      "image/png": "[encoded data removed]",
      "text/plain": [
       "<Figure size 640x480 with 1 Axes>"
      ]
     },
     "metadata": {},
     "output_type": "display_data"
    }
   ],
   "source": [
    "env = Environment(width=20, height=10, bottleneck_width=2, bottleneck_height=2)\n",
    "\n",
    "# Generate agents to fill from x=0.5 to x=3.5 and y=1 to y=9\n",
    "num_agents = 10  # Define the number of agents\n",
    "x_positions = [0.5, 1.5, 2.5, 3.5]  # Positions along the x-axis\n",
    "y_positions = [1.0, 2.0, 3.0, 4.0, 5.0, 6.0, 7.0, 8.0, 9.0]  # Positions along the y-axis\n",
    "\n",
    "agents = []\n",
    "for y in y_positions:\n",
    "    for x in x_positions:\n",
    "        agents.append(Agent(position=[x, y], velocity=[0.0, 0.0], radius=0.1))\n",
    "\n",
    "# Initialize the GCF model\n",
    "gcf_model = GCFModel(environment=env, agents=agents, time_constant=1)\n",
    "\n",
    "# Animate the model\n",
    "gcf_model.animate(steps=1000, dt=0.01, interval=100, output_filename=\"crowd_simulation_social_force.gif\", show_forces=True)"
   ]
  },
  {
   "cell_type": "code",
   "execution_count": 5,
   "metadata": {},
   "outputs": [
    {
     "data": {
      "text/plain": [
       "array([11.3137085, 11.3137085])"
      ]
     },
     "execution_count": 5,
     "metadata": {},
     "output_type": "execute_result"
    }
   ],
   "source": [
    "import numpy as np\n",
    "import misc\n",
    "misc.normalize(np.array((1, 1))) * 16"
   ]
  },
  {
   "cell_type": "code",
   "execution_count": 3,
   "metadata": {},
   "outputs": [
    {
     "data": {
      "text/plain": [
       "array([1, 1])"
      ]
     },
     "execution_count": 3,
     "metadata": {},
     "output_type": "execute_result"
    }
   ],
   "source": [
    "import numpy as np\n",
    "np.array((1, 1))"
   ]
  },
  {
   "cell_type": "code",
   "execution_count": 3,
   "metadata": {},
   "outputs": [
    {
     "name": "stdout",
     "output_type": "stream",
     "text": [
      "Requirement already satisfied: pillow in c:\\users\\peter\\appdata\\local\\programs\\python\\python312\\lib\\site-packages (10.3.0)\n",
      "Collecting pillow\n",
      "  Downloading pillow-10.4.0-cp312-cp312-win_amd64.whl.metadata (9.3 kB)\n",
      "Downloading pillow-10.4.0-cp312-cp312-win_amd64.whl (2.6 MB)\n",
      "   ---------------------------------------- 0.0/2.6 MB ? eta -:--:--\n",
      "   -- ------------------------------------- 0.1/2.6 MB 4.3 MB/s eta 0:00:01\n",
      "   --------------- ------------------------ 1.0/2.6 MB 12.5 MB/s eta 0:00:01\n",
      "   --------------------------------- ------ 2.2/2.6 MB 19.8 MB/s eta 0:00:01\n",
      "   ---------------------------------------- 2.6/2.6 MB 16.3 MB/s eta 0:00:00\n",
      "Installing collected packages: pillow\n",
      "  Attempting uninstall: pillow\n",
      "    Found existing installation: pillow 10.3.0\n",
      "    Uninstalling pillow-10.3.0:\n",
      "      Successfully uninstalled pillow-10.3.0\n",
      "Successfully installed pillow-10.4.0\n",
      "Note: you may need to restart the kernel to use updated packages.\n"
     ]
    },
    {
     "name": "stderr",
     "output_type": "stream",
     "text": [
      "  WARNING: Failed to remove contents in a temporary directory 'C:\\Users\\Peter\\AppData\\Local\\Programs\\Python\\Python312\\Lib\\site-packages\\~il'.\n",
      "  You can safely remove it manually.\n",
      "\n",
      "[notice] A new release of pip is available: 24.1.2 -> 24.2\n",
      "[notice] To update, run: python.exe -m pip install --upgrade pip\n"
     ]
    }
   ],
   "source": [
    "pip install --upgrade pillow\n"
   ]
  }
 ],
 "metadata": {
  "kernelspec": {
   "display_name": "Python 3",
   "language": "python",
   "name": "python3"
  },
  "language_info": {
   "codemirror_mode": {
    "name": "ipython",
    "version": 3
   },
   "file_extension": ".py",
   "mimetype": "text/x-python",
   "name": "python",
   "nbconvert_exporter": "python",
   "pygments_lexer": "ipython3",
   "version": "3.12.0"
  }
 },
 "nbformat": 4,
 "nbformat_minor": 2
}
