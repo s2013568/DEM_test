{
 "cells": [
  {
   "cell_type": "code",
   "execution_count": 2,
   "metadata": {},
   "outputs": [
    {
     "ename": "ImportError",
     "evalue": "cannot import name 'Agent' from 'agent' (c:\\Users\\Peter\\OneDrive - University of Edinburgh\\Desktop\\PHD\\github\\DEM_test\\Ageng_based_simulation\\Force_based_model\\agent.py)",
     "output_type": "error",
     "traceback": [
      "\u001b[1;31m---------------------------------------------------------------------------\u001b[0m",
      "\u001b[1;31mImportError\u001b[0m                               Traceback (most recent call last)",
      "Cell \u001b[1;32mIn[2], line 2\u001b[0m\n\u001b[0;32m      1\u001b[0m \u001b[38;5;66;03m# from environment import Environment\u001b[39;00m\n\u001b[1;32m----> 2\u001b[0m \u001b[38;5;28;01mfrom\u001b[39;00m \u001b[38;5;21;01magent\u001b[39;00m \u001b[38;5;28;01mimport\u001b[39;00m Agent\n\u001b[0;32m      3\u001b[0m \u001b[38;5;28;01mfrom\u001b[39;00m \u001b[38;5;21;01mmain\u001b[39;00m \u001b[38;5;28;01mimport\u001b[39;00m GCFModel\n",
      "\u001b[1;31mImportError\u001b[0m: cannot import name 'Agent' from 'agent' (c:\\Users\\Peter\\OneDrive - University of Edinburgh\\Desktop\\PHD\\github\\DEM_test\\Ageng_based_simulation\\Force_based_model\\agent.py)"
     ]
    }
   ],
   "source": [
    "from environment import Environment\n",
    "from agent import Agent\n",
    "from main import GCFModel"
   ]
  },
  {
   "cell_type": "code",
   "execution_count": null,
   "metadata": {},
   "outputs": [],
   "source": [
    "env = Environment(width=10, height=10, bottleneck_width=2)\n",
    "\n",
    "# Create a list of agents\n",
    "agents = [Agent(position=[1.0, 1.0], velocity=[0.5, 0.0]),\n",
    "            Agent(position=[2.0, 1.0], velocity=[-0.5, 0.0])]\n",
    "\n",
    "# Initialize the GCF model\n",
    "gcf_model = GCFModel(environment=env, agents=agents)\n",
    "\n",
    "\n",
    "gcf_model.animate(steps=100, dt=0.1, interval=100)\n"
   ]
  }
 ],
 "metadata": {
  "kernelspec": {
   "display_name": "Python 3",
   "language": "python",
   "name": "python3"
  },
  "language_info": {
   "codemirror_mode": {
    "name": "ipython",
    "version": 3
   },
   "file_extension": ".py",
   "mimetype": "text/x-python",
   "name": "python",
   "nbconvert_exporter": "python",
   "pygments_lexer": "ipython3",
   "version": "3.12.0"
  }
 },
 "nbformat": 4,
 "nbformat_minor": 2
}
