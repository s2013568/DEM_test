{
 "cells": [
  {
   "cell_type": "code",
   "execution_count": 1,
   "metadata": {},
   "outputs": [],
   "source": [
    "from environment import Environment\n",
    "from agent import Agent\n",
    "from main import GCFModel\n",
    "import measurement\n",
    "import numpy as np"
   ]
  },
  {
   "cell_type": "code",
   "execution_count": 2,
   "metadata": {},
   "outputs": [
    {
     "name": "stderr",
     "output_type": "stream",
     "text": [
      "\\\\csce.datastore.ed.ac.uk\\csce\\eng\\users\\s2013568\\Win7\\Desktop\\DEM\\DEM_test-1\\Ageng_based_simulation\\Force_based_model\\main.py:100: UserWarning: Setting the 'color' property will override the edgecolor or facecolor properties.\n",
      "  agent_circles = [patches.Ellipse(agent.position, 2*agent.a, 2*agent.b,angle=misc.calculate_angle(agent.velocity), color='b', fill=False, edgecolor='b') for agent in self.agents]\n",
      "\\\\csce.datastore.ed.ac.uk\\csce\\eng\\users\\s2013568\\Win7\\Desktop\\DEM\\DEM_test-1\\Ageng_based_simulation\\Force_based_model\\main.py:130: UserWarning: Setting the 'color' property will override the edgecolor or facecolor properties.\n",
      "  new_agent_circles = [patches.Ellipse(agent.position, 2*agent.a, 2*agent.b, angle=misc.calculate_angle(agent.velocity), color='b', fill=False, edgecolor='b') for agent in self.agents]\n"
     ]
    },
    {
     "data": {
      "image/png": "[encoded data removed]",
      "text/plain": [
       "<Figure size 640x480 with 1 Axes>"
      ]
     },
     "metadata": {},
     "output_type": "display_data"
    }
   ],
   "source": [
    "# Function to calculate flow rate\n",
    "def calculate_flow_rate(step_of_passing):\n",
    "    return (60 - 1) / step_of_passing\n",
    "\n",
    "# Define range for bottleneck_height    \n",
    "bottleneck_heights = [2.0]\n",
    "\n",
    "# Initialize lists to store results\n",
    "flow_rates = []\n",
    "\n",
    "# Run simulation for each bottleneck height\n",
    "for bottleneck_height in bottleneck_heights:\n",
    "    # Define environment\n",
    "    env = Environment(width=30, height=4, bottleneck_width=2.8, bottleneck_height=bottleneck_height, location=(10, 0), periodic=False)\n",
    "    \n",
    "    # Initialize agents with 5 agents starting extremely close to each other\n",
    "    agents = []\n",
    "    num_agents = 2  # Set number of agents to 5\n",
    "\n",
    "    # Define a starting position close to each other\n",
    "    start_x = 5.0  # Arbitrary central starting point near the middle of the box\n",
    "    start_y = 2.0\n",
    "    agent_spacing = 1.0  # Very small spacing between agents\n",
    "\n",
    "    # Place 5 agents close together\n",
    "    # for i in range(num_agents):\n",
    "    #     # Adjust x positions slightly for proximity\n",
    "    #     x_pos = start_x + agent_spacing * i\n",
    "    #     y_pos = start_y\n",
    "\n",
    "        # agents.append(agent)\n",
    "    agents = [Agent(position=[19, 0.5], velocity=[0.0, 0.0], a_min=0.18, b_min=0.2, tau=0.53, f=1.25, desired_walking_speed=1.34, test=False)\n",
    "              \n",
    "    ]\n",
    "    # Initialize GCF model\n",
    "    gcf_model = GCFModel(environment=env, agents=agents, time_constant=0.5, eta=0.2)\n",
    "    \n",
    "    # Optionally, animate the system\n",
    "    gcf_model.animate(steps=1000, dt=0.01, interval=50000, output_filename=\"crowd_simulation_close_agents.gif\", show_forces=True)\n",
    "    \n",
    "    # Run the simulation\n",
    "    #gcf_model.run_simulation(steps=10, dt=0.01, log_interval=10, verbose=False)\n",
    "\n",
    "    # Calculate flow rate and record it\n",
    "    # step_of_passing = gcf_model.recorded_step_of_passing[0]\n",
    "    # flow_rate = calculate_flow_rate(step_of_passing)\n",
    "    # flow_rates.append(flow_rate)\n"
   ]
  },
  {
   "cell_type": "code",
   "execution_count": null,
   "metadata": {},
   "outputs": [],
   "source": [
    "# Function to calculate flow rate\n",
    "def calculate_flow_rate(step_of_passing):\n",
    "    return (60 - 1) / step_of_passing\n",
    "\n",
    "# Define range for bottleneck_height    \n",
    "bottleneck_heights = np.arange(0.5, 2.6, 0.1)\n",
    "# bottleneck_heights = [1.1]\n",
    "\n",
    "# Initialize lists to store results\n",
    "flow_rates = []\n",
    "\n",
    "# Run simulation for each bottleneck height\n",
    "for bottleneck_height in bottleneck_heights:\n",
    "    print(bottleneck_height)\n",
    "    # Define environment\n",
    "    env = Environment(width=30, height=4, bottleneck_width=2.8, bottleneck_height=bottleneck_height, location=(10, 0), periodic=False)\n",
    "    \n",
    "    # Initialize agents\n",
    "    agents = []\n",
    "    num_agents = 100  # Set the number of agents dynamically based on your needs\n",
    "\n",
    "    # Define available space for agents\n",
    "    start_x = 19.1  # Right boundary\n",
    "    end_x = 0.5     # Left boundary\n",
    "    start_y = 0.5   # Bottom boundary\n",
    "    end_y = 3.5     # Top boundary\n",
    "    available_width = start_x - end_x\n",
    "    available_height = end_y - start_y\n",
    "    available_area = available_width * available_height\n",
    "\n",
    "    # Dynamically calculate the number of rows and columns\n",
    "    aspect_ratio = available_width / available_height\n",
    "    num_columns = int(np.sqrt(num_agents * aspect_ratio))  # Columns based on aspect ratio\n",
    "    num_rows = int(num_agents / num_columns)\n",
    "\n",
    "    # Calculate spacing dynamically based on available space and number of agents\n",
    "    spacing_x = available_width / num_columns\n",
    "    spacing_y = available_height / num_rows\n",
    "\n",
    "    # Generate grid of agent positions\n",
    "    x_positions = np.linspace(start_x, end_x, num_columns)\n",
    "    y_positions = np.linspace(start_y, end_y, num_rows)\n",
    "\n",
    "    # Place agents uniformly in both x and y directions\n",
    "    for y in y_positions:\n",
    "        for x in x_positions:\n",
    "            if len(agents) >= num_agents:\n",
    "                break\n",
    "            agent = Agent(position=[x, y], velocity=[0.0, 0.0], a_min=0.18, b_min=0.1, tau=0.53, f=1.25, desired_walking_speed=1.34, test=False)\n",
    "            agents.append(agent)\n",
    "        if len(agents) >= num_agents:\n",
    "            break\n",
    "        \n",
    "    gcf_model = GCFModel(environment=env, agents=agents, time_constant=0.5, eta=0.2)\n",
    "    # gcf_model.animate(steps=400, dt=0.01, interval=1000000000, output_filename=\"test.gif\", show_forces=True)\n",
    "    gcf_model.run_simulation(steps=10000, dt=0.01, log_interval=100, verbose=True)\n",
    "\n",
    "    \n",
    "    # Calculate flow rate and record it\n",
    "    if gcf_model.recorded_step_of_passing != []:\n",
    "        step_of_passing = gcf_model.recorded_step_of_passing[0]\n",
    "        flow_rate = calculate_flow_rate(step_of_passing)\n",
    "        flow_rates.append(flow_rate)\n",
    "    else:\n",
    "        flow_rates.append(0)"
   ]
  }
 ],
 "metadata": {
  "kernelspec": {
   "display_name": "Python 3",
   "language": "python",
   "name": "python3"
  },
  "language_info": {
   "codemirror_mode": {
    "name": "ipython",
    "version": 3
   },
   "file_extension": ".py",
   "mimetype": "text/x-python",
   "name": "python",
   "nbconvert_exporter": "python",
   "pygments_lexer": "ipython3",
   "version": "3.8.10"
  }
 },
 "nbformat": 4,
 "nbformat_minor": 2
}
