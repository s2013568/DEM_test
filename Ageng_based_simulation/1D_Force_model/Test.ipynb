{
 "cells": [
  {
   "cell_type": "code",
   "execution_count": 1,
   "metadata": {},
   "outputs": [
    {
     "name": "stdout",
     "output_type": "stream",
     "text": [
      "Step 0:\n",
      "  Agent 0: Position: 0.1800000000559391, Velocity: 1.1187820542553935e-05, Force: 0.5593910271276967\n",
      "Step 1000:\n",
      "  Agent 0: Position: 0.18002795252464934, Velocity: 0.011138580216032746, Force: 0.5533633670277844\n",
      "Simulation complete.\n"
     ]
    }
   ],
   "source": [
    "from environment import Environment\n",
    "from agent import Agent\n",
    "from main import Force_Model\n",
    "import csv\n",
    "import random\n",
    "\n",
    "\n",
    "# Function to create agents evenly spaced across the field, avoiding overlap with the test agent\n",
    "def create_agents(num_agents, canvas_width=200):\n",
    "    agents = []\n",
    "\n",
    "    # Calculate spacing between agents\n",
    "    space_between_agents = (canvas_width) / (num_agents)\n",
    "\n",
    "    current_x_position = 0.1\n",
    "    for i in range(num_agents):\n",
    "        # Create agents with the same properties except the test agent for the first position\n",
    "        if i == 0:\n",
    "            agents.append(Agent(position=current_x_position + 0.0001, velocity=0, a0=0.2, b0=0.1, tau=0.5, test=True))\n",
    "        else:\n",
    "            agents.append(Agent(position=current_x_position, velocity=0, a0=0.2, b0=0.1, tau=0.5, test=False))\n",
    "        \n",
    "        current_x_position += space_between_agents\n",
    "\n",
    "    return agents\n",
    "\n",
    "\n",
    "\n",
    "# Function to run a single simulation and log the test agent's velocity and density\n",
    "def run_single_simulation(num_agents):\n",
    "    env = Environment(width=200, height=3)\n",
    "    agents = create_agents(num_agents)\n",
    "    \n",
    "    gcf_model = Force_Model(environment=env, agents=agents, parameters = (0.2, 1, 1, 1), x_min = 0, x_max = 26)\n",
    "    #gcf_model.run_simulation(steps=1, dt=0.001, log_interval=1)\n",
    "    gcf_model.run_simulation(steps=2000, dt=0.00001, log_interval=1000)\n",
    "    # gcf_model.run_simulation(steps=200000000, dt=0.00001, log_interval=1)\n",
    "    # gcf_model.animate(10, dt=0.001, interval=1, output_filename=\"crowd_simulation_test.gif\", show_forces=True, save_interval=1000)\n",
    "    \n",
    "    # print(agents[0].memory)\n",
    "    # print(agents[0].velocity)\n",
    "    # print(agents[0].total_force)\n",
    "    # print(agents[0].driving_force)\n",
    "    # print(agents[0].repulsion_force)\n",
    "\n",
    "# Main function to run multiple simulations with varying number of agents\n",
    "\n",
    "\n",
    "# Define the number of agents to test (start with 10 agents and increase)\n",
    "agent_counts = [67]\n",
    "\n",
    "# Run the simulations\n",
    "results = run_single_simulation(67)\n"
   ]
  }
 ],
 "metadata": {
  "kernelspec": {
   "display_name": "Python 3",
   "language": "python",
   "name": "python3"
  },
  "language_info": {
   "codemirror_mode": {
    "name": "ipython",
    "version": 3
   },
   "file_extension": ".py",
   "mimetype": "text/x-python",
   "name": "python",
   "nbconvert_exporter": "python",
   "pygments_lexer": "ipython3",
   "version": "3.12.0"
  }
 },
 "nbformat": 4,
 "nbformat_minor": 2
}
