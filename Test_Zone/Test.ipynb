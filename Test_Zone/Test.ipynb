{
 "cells": [
  {
   "cell_type": "code",
   "execution_count": 1,
   "metadata": {},
   "outputs": [],
   "source": [
    "from particle_defintions import Particle2D, Box2D\n",
    "from DEM_main import DEM2D\n",
    "import importlib\n",
    "import sys"
   ]
  },
  {
   "cell_type": "code",
   "execution_count": 2,
   "metadata": {},
   "outputs": [
    {
     "name": "stdout",
     "output_type": "stream",
     "text": [
      "Step 1/500, Time: 0.01\n"
     ]
    },
    {
     "ename": "AttributeError",
     "evalue": "'Particle2D' object has no attribute 'update_acceleration'",
     "output_type": "error",
     "traceback": [
      "\u001b[1;31m---------------------------------------------------------------------------\u001b[0m",
      "\u001b[1;31mAttributeError\u001b[0m                            Traceback (most recent call last)",
      "Cell \u001b[1;32mIn[2], line 16\u001b[0m\n\u001b[0;32m     13\u001b[0m dem_sim \u001b[38;5;241m=\u001b[39m DEM2D(particles\u001b[38;5;241m=\u001b[39mparticles, box\u001b[38;5;241m=\u001b[39mbox, time_step\u001b[38;5;241m=\u001b[39m\u001b[38;5;241m0.01\u001b[39m, total_time\u001b[38;5;241m=\u001b[39m\u001b[38;5;241m5.0\u001b[39m, gravity \u001b[38;5;241m=\u001b[39m \u001b[38;5;28;01mTrue\u001b[39;00m)\n\u001b[0;32m     15\u001b[0m \u001b[38;5;66;03m# Run the simulation\u001b[39;00m\n\u001b[1;32m---> 16\u001b[0m \u001b[43mdem_sim\u001b[49m\u001b[38;5;241;43m.\u001b[39;49m\u001b[43mrun\u001b[49m\u001b[43m(\u001b[49m\u001b[43m)\u001b[49m\n\u001b[0;32m     18\u001b[0m \u001b[38;5;66;03m# Visualize the results\u001b[39;00m\n\u001b[0;32m     19\u001b[0m dem_sim\u001b[38;5;241m.\u001b[39mvisualize(save_path\u001b[38;5;241m=\u001b[39m\u001b[38;5;124m\"\u001b[39m\u001b[38;5;124msimulation.gif\u001b[39m\u001b[38;5;124m\"\u001b[39m, save_format\u001b[38;5;241m=\u001b[39m\u001b[38;5;124m\"\u001b[39m\u001b[38;5;124mgif\u001b[39m\u001b[38;5;124m\"\u001b[39m)\n",
      "File \u001b[1;32m\\\\csce.datastore.ed.ac.uk\\csce\\eng\\users\\s2013568\\Win7\\Desktop\\DEM\\DEM_test\\Test_Zone\\DEM_main.py:52\u001b[0m, in \u001b[0;36mDEM2D.run\u001b[1;34m(self)\u001b[0m\n\u001b[0;32m     50\u001b[0m \u001b[38;5;66;03m### now the collision is solved, the particles are then allowed to step into the next time step\u001b[39;00m\n\u001b[0;32m     51\u001b[0m \u001b[38;5;28;01mfor\u001b[39;00m particle \u001b[38;5;129;01min\u001b[39;00m \u001b[38;5;28mself\u001b[39m\u001b[38;5;241m.\u001b[39mparticles:\n\u001b[1;32m---> 52\u001b[0m     \u001b[38;5;28;43mself\u001b[39;49m\u001b[38;5;241;43m.\u001b[39;49m\u001b[43mupdate_particle\u001b[49m\u001b[43m(\u001b[49m\u001b[43mparticle\u001b[49m\u001b[43m)\u001b[49m\n\u001b[0;32m     54\u001b[0m \u001b[38;5;66;03m# Store history (optional, for later visualization)\u001b[39;00m\n\u001b[0;32m     55\u001b[0m \u001b[38;5;28mself\u001b[39m\u001b[38;5;241m.\u001b[39mstore_history()\n",
      "File \u001b[1;32m\\\\csce.datastore.ed.ac.uk\\csce\\eng\\users\\s2013568\\Win7\\Desktop\\DEM\\DEM_test\\Test_Zone\\DEM_main.py:97\u001b[0m, in \u001b[0;36mDEM2D.update_particle\u001b[1;34m(self, particle)\u001b[0m\n\u001b[0;32m     94\u001b[0m particle\u001b[38;5;241m.\u001b[39mreset_force(gravity \u001b[38;5;241m=\u001b[39m \u001b[38;5;28;01mTrue\u001b[39;00m)\n\u001b[0;32m     96\u001b[0m \u001b[38;5;66;03m# Update acceleration based on current forces (forces are zero in this case)\u001b[39;00m\n\u001b[1;32m---> 97\u001b[0m \u001b[43mparticle\u001b[49m\u001b[38;5;241;43m.\u001b[39;49m\u001b[43mupdate_acceleration\u001b[49m()\n\u001b[0;32m     99\u001b[0m \u001b[38;5;66;03m# Update particle's position and velocity using integration\u001b[39;00m\n\u001b[0;32m    100\u001b[0m particle\u001b[38;5;241m.\u001b[39mupdate_position(\u001b[38;5;28mself\u001b[39m\u001b[38;5;241m.\u001b[39mtime_step)\n",
      "\u001b[1;31mAttributeError\u001b[0m: 'Particle2D' object has no attribute 'update_acceleration'"
     ]
    }
   ],
   "source": [
    "importlib.reload(sys.modules['particle_defintions'])\n",
    "importlib.reload(sys.modules['DEM_main'])\n",
    "# Define particles\n",
    "particles = [\n",
    "    Particle2D(position=[2.0, 2.0], velocity=[5.0, 3], ang_velocity = 0, radius=0.2, mass=1.0, material_properties={'restitution': 1, 'kinetic friction coeficient': 0}),\n",
    "    Particle2D(position=[8.0, 8.0], velocity=[-4.5, -6.5], ang_velocity = 0, radius=0.2, mass=1.0, material_properties={'restitution': 1, 'kinetic friction coeficient': 0}),\n",
    "]\n",
    "\n",
    "# Create a box\n",
    "box = Box2D(width=10.0, height=10.0)\n",
    "\n",
    "# Create a DEM simulation\n",
    "dem_sim = DEM2D(particles=particles, box=box, time_step=0.01, total_time=5.0, gravity = True)\n",
    "\n",
    "# Run the simulation\n",
    "dem_sim.run()\n",
    "\n",
    "# Visualize the results\n",
    "dem_sim.visualize(save_path=\"simulation.gif\", save_format=\"gif\")\n"
   ]
  }
 ],
 "metadata": {
  "kernelspec": {
   "display_name": "Python 3",
   "language": "python",
   "name": "python3"
  },
  "language_info": {
   "codemirror_mode": {
    "name": "ipython",
    "version": 3
   },
   "file_extension": ".py",
   "mimetype": "text/x-python",
   "name": "python",
   "nbconvert_exporter": "python",
   "pygments_lexer": "ipython3",
   "version": "3.8.10"
  }
 },
 "nbformat": 4,
 "nbformat_minor": 2
}
